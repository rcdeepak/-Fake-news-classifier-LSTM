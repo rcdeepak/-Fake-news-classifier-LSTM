{
 "cells": [
  {
   "cell_type": "markdown",
   "id": "e88a86db",
   "metadata": {},
   "source": [
    "## Fake News Detection"
   ]
  },
  {
   "cell_type": "markdown",
   "id": "c92569f4",
   "metadata": {},
   "source": [
    "#### Importing necessary library"
   ]
  },
  {
   "cell_type": "code",
   "execution_count": 1,
   "id": "e3f1e1cc",
   "metadata": {},
   "outputs": [],
   "source": [
    "import pandas as pd\n",
    "import numpy as np\n",
    "import tensorflow as tf\n",
    "import nltk\n",
    "import re\n",
    "from nltk.corpus import stopwords\n",
    "from nltk.stem.porter import PorterStemmer\n",
    "from tensorflow.keras.preprocessing.text import one_hot\n",
    "\n",
    "from tensorflow.keras.layers import Embedding\n",
    "from tensorflow.keras.preprocessing.sequence import pad_sequences\n",
    "from tensorflow.keras.models import Sequential\n",
    "from tensorflow.keras.layers import LSTM\n",
    "from tensorflow.keras.layers import Dense"
   ]
  },
  {
   "cell_type": "markdown",
   "id": "79f921f6",
   "metadata": {},
   "source": [
    "#### Read training dataset"
   ]
  },
  {
   "cell_type": "code",
   "execution_count": 2,
   "id": "92e3be2f",
   "metadata": {},
   "outputs": [],
   "source": [
    "df=pd.read_csv('fake-news/train.csv')"
   ]
  },
  {
   "cell_type": "code",
   "execution_count": 3,
   "id": "0ac31a6b",
   "metadata": {},
   "outputs": [
    {
     "data": {
      "text/html": [
       "<div>\n",
       "<style scoped>\n",
       "    .dataframe tbody tr th:only-of-type {\n",
       "        vertical-align: middle;\n",
       "    }\n",
       "\n",
       "    .dataframe tbody tr th {\n",
       "        vertical-align: top;\n",
       "    }\n",
       "\n",
       "    .dataframe thead th {\n",
       "        text-align: right;\n",
       "    }\n",
       "</style>\n",
       "<table border=\"1\" class=\"dataframe\">\n",
       "  <thead>\n",
       "    <tr style=\"text-align: right;\">\n",
       "      <th></th>\n",
       "      <th>id</th>\n",
       "      <th>title</th>\n",
       "      <th>author</th>\n",
       "      <th>text</th>\n",
       "      <th>label</th>\n",
       "    </tr>\n",
       "  </thead>\n",
       "  <tbody>\n",
       "    <tr>\n",
       "      <th>0</th>\n",
       "      <td>0</td>\n",
       "      <td>House Dem Aide: We Didn’t Even See Comey’s Let...</td>\n",
       "      <td>Darrell Lucus</td>\n",
       "      <td>House Dem Aide: We Didn’t Even See Comey’s Let...</td>\n",
       "      <td>1</td>\n",
       "    </tr>\n",
       "    <tr>\n",
       "      <th>1</th>\n",
       "      <td>1</td>\n",
       "      <td>FLYNN: Hillary Clinton, Big Woman on Campus - ...</td>\n",
       "      <td>Daniel J. Flynn</td>\n",
       "      <td>Ever get the feeling your life circles the rou...</td>\n",
       "      <td>0</td>\n",
       "    </tr>\n",
       "    <tr>\n",
       "      <th>2</th>\n",
       "      <td>2</td>\n",
       "      <td>Why the Truth Might Get You Fired</td>\n",
       "      <td>Consortiumnews.com</td>\n",
       "      <td>Why the Truth Might Get You Fired October 29, ...</td>\n",
       "      <td>1</td>\n",
       "    </tr>\n",
       "    <tr>\n",
       "      <th>3</th>\n",
       "      <td>3</td>\n",
       "      <td>15 Civilians Killed In Single US Airstrike Hav...</td>\n",
       "      <td>Jessica Purkiss</td>\n",
       "      <td>Videos 15 Civilians Killed In Single US Airstr...</td>\n",
       "      <td>1</td>\n",
       "    </tr>\n",
       "    <tr>\n",
       "      <th>4</th>\n",
       "      <td>4</td>\n",
       "      <td>Iranian woman jailed for fictional unpublished...</td>\n",
       "      <td>Howard Portnoy</td>\n",
       "      <td>Print \\nAn Iranian woman has been sentenced to...</td>\n",
       "      <td>1</td>\n",
       "    </tr>\n",
       "  </tbody>\n",
       "</table>\n",
       "</div>"
      ],
      "text/plain": [
       "   id                                              title              author  \\\n",
       "0   0  House Dem Aide: We Didn’t Even See Comey’s Let...       Darrell Lucus   \n",
       "1   1  FLYNN: Hillary Clinton, Big Woman on Campus - ...     Daniel J. Flynn   \n",
       "2   2                  Why the Truth Might Get You Fired  Consortiumnews.com   \n",
       "3   3  15 Civilians Killed In Single US Airstrike Hav...     Jessica Purkiss   \n",
       "4   4  Iranian woman jailed for fictional unpublished...      Howard Portnoy   \n",
       "\n",
       "                                                text  label  \n",
       "0  House Dem Aide: We Didn’t Even See Comey’s Let...      1  \n",
       "1  Ever get the feeling your life circles the rou...      0  \n",
       "2  Why the Truth Might Get You Fired October 29, ...      1  \n",
       "3  Videos 15 Civilians Killed In Single US Airstr...      1  \n",
       "4  Print \\nAn Iranian woman has been sentenced to...      1  "
      ]
     },
     "execution_count": 3,
     "metadata": {},
     "output_type": "execute_result"
    }
   ],
   "source": [
    "df.head()"
   ]
  },
  {
   "cell_type": "code",
   "execution_count": 4,
   "id": "8e365b97",
   "metadata": {},
   "outputs": [
    {
     "data": {
      "text/plain": [
       "(20800, 5)"
      ]
     },
     "execution_count": 4,
     "metadata": {},
     "output_type": "execute_result"
    }
   ],
   "source": [
    "df.shape"
   ]
  },
  {
   "cell_type": "markdown",
   "id": "79b11ab0",
   "metadata": {},
   "source": [
    "#### checking null values"
   ]
  },
  {
   "cell_type": "code",
   "execution_count": 5,
   "id": "30ba0693",
   "metadata": {},
   "outputs": [
    {
     "data": {
      "text/plain": [
       "id           0\n",
       "title      558\n",
       "author    1957\n",
       "text        39\n",
       "label        0\n",
       "dtype: int64"
      ]
     },
     "execution_count": 5,
     "metadata": {},
     "output_type": "execute_result"
    }
   ],
   "source": [
    "df.isna().sum()"
   ]
  },
  {
   "cell_type": "markdown",
   "id": "b8d43e8c",
   "metadata": {},
   "source": [
    "#### droping null values"
   ]
  },
  {
   "cell_type": "code",
   "execution_count": 6,
   "id": "15ac7195",
   "metadata": {},
   "outputs": [],
   "source": [
    "df=df.dropna()"
   ]
  },
  {
   "cell_type": "code",
   "execution_count": 7,
   "id": "04918f42",
   "metadata": {},
   "outputs": [
    {
     "data": {
      "text/html": [
       "<div>\n",
       "<style scoped>\n",
       "    .dataframe tbody tr th:only-of-type {\n",
       "        vertical-align: middle;\n",
       "    }\n",
       "\n",
       "    .dataframe tbody tr th {\n",
       "        vertical-align: top;\n",
       "    }\n",
       "\n",
       "    .dataframe thead th {\n",
       "        text-align: right;\n",
       "    }\n",
       "</style>\n",
       "<table border=\"1\" class=\"dataframe\">\n",
       "  <thead>\n",
       "    <tr style=\"text-align: right;\">\n",
       "      <th></th>\n",
       "      <th>id</th>\n",
       "      <th>title</th>\n",
       "      <th>author</th>\n",
       "      <th>text</th>\n",
       "      <th>label</th>\n",
       "    </tr>\n",
       "  </thead>\n",
       "  <tbody>\n",
       "    <tr>\n",
       "      <th>0</th>\n",
       "      <td>0</td>\n",
       "      <td>House Dem Aide: We Didn’t Even See Comey’s Let...</td>\n",
       "      <td>Darrell Lucus</td>\n",
       "      <td>House Dem Aide: We Didn’t Even See Comey’s Let...</td>\n",
       "      <td>1</td>\n",
       "    </tr>\n",
       "    <tr>\n",
       "      <th>1</th>\n",
       "      <td>1</td>\n",
       "      <td>FLYNN: Hillary Clinton, Big Woman on Campus - ...</td>\n",
       "      <td>Daniel J. Flynn</td>\n",
       "      <td>Ever get the feeling your life circles the rou...</td>\n",
       "      <td>0</td>\n",
       "    </tr>\n",
       "    <tr>\n",
       "      <th>2</th>\n",
       "      <td>2</td>\n",
       "      <td>Why the Truth Might Get You Fired</td>\n",
       "      <td>Consortiumnews.com</td>\n",
       "      <td>Why the Truth Might Get You Fired October 29, ...</td>\n",
       "      <td>1</td>\n",
       "    </tr>\n",
       "    <tr>\n",
       "      <th>3</th>\n",
       "      <td>3</td>\n",
       "      <td>15 Civilians Killed In Single US Airstrike Hav...</td>\n",
       "      <td>Jessica Purkiss</td>\n",
       "      <td>Videos 15 Civilians Killed In Single US Airstr...</td>\n",
       "      <td>1</td>\n",
       "    </tr>\n",
       "    <tr>\n",
       "      <th>4</th>\n",
       "      <td>4</td>\n",
       "      <td>Iranian woman jailed for fictional unpublished...</td>\n",
       "      <td>Howard Portnoy</td>\n",
       "      <td>Print \\nAn Iranian woman has been sentenced to...</td>\n",
       "      <td>1</td>\n",
       "    </tr>\n",
       "    <tr>\n",
       "      <th>5</th>\n",
       "      <td>5</td>\n",
       "      <td>Jackie Mason: Hollywood Would Love Trump if He...</td>\n",
       "      <td>Daniel Nussbaum</td>\n",
       "      <td>In these trying times, Jackie Mason is the Voi...</td>\n",
       "      <td>0</td>\n",
       "    </tr>\n",
       "    <tr>\n",
       "      <th>7</th>\n",
       "      <td>7</td>\n",
       "      <td>Benoît Hamon Wins French Socialist Party’s Pre...</td>\n",
       "      <td>Alissa J. Rubin</td>\n",
       "      <td>PARIS  —   France chose an idealistic, traditi...</td>\n",
       "      <td>0</td>\n",
       "    </tr>\n",
       "    <tr>\n",
       "      <th>9</th>\n",
       "      <td>9</td>\n",
       "      <td>A Back-Channel Plan for Ukraine and Russia, Co...</td>\n",
       "      <td>Megan Twohey and Scott Shane</td>\n",
       "      <td>A week before Michael T. Flynn resigned as nat...</td>\n",
       "      <td>0</td>\n",
       "    </tr>\n",
       "    <tr>\n",
       "      <th>10</th>\n",
       "      <td>10</td>\n",
       "      <td>Obama’s Organizing for Action Partners with So...</td>\n",
       "      <td>Aaron Klein</td>\n",
       "      <td>Organizing for Action, the activist group that...</td>\n",
       "      <td>0</td>\n",
       "    </tr>\n",
       "    <tr>\n",
       "      <th>11</th>\n",
       "      <td>11</td>\n",
       "      <td>BBC Comedy Sketch \"Real Housewives of ISIS\" Ca...</td>\n",
       "      <td>Chris Tomlinson</td>\n",
       "      <td>The BBC produced spoof on the “Real Housewives...</td>\n",
       "      <td>0</td>\n",
       "    </tr>\n",
       "  </tbody>\n",
       "</table>\n",
       "</div>"
      ],
      "text/plain": [
       "    id                                              title  \\\n",
       "0    0  House Dem Aide: We Didn’t Even See Comey’s Let...   \n",
       "1    1  FLYNN: Hillary Clinton, Big Woman on Campus - ...   \n",
       "2    2                  Why the Truth Might Get You Fired   \n",
       "3    3  15 Civilians Killed In Single US Airstrike Hav...   \n",
       "4    4  Iranian woman jailed for fictional unpublished...   \n",
       "5    5  Jackie Mason: Hollywood Would Love Trump if He...   \n",
       "7    7  Benoît Hamon Wins French Socialist Party’s Pre...   \n",
       "9    9  A Back-Channel Plan for Ukraine and Russia, Co...   \n",
       "10  10  Obama’s Organizing for Action Partners with So...   \n",
       "11  11  BBC Comedy Sketch \"Real Housewives of ISIS\" Ca...   \n",
       "\n",
       "                          author  \\\n",
       "0                  Darrell Lucus   \n",
       "1                Daniel J. Flynn   \n",
       "2             Consortiumnews.com   \n",
       "3                Jessica Purkiss   \n",
       "4                 Howard Portnoy   \n",
       "5                Daniel Nussbaum   \n",
       "7                Alissa J. Rubin   \n",
       "9   Megan Twohey and Scott Shane   \n",
       "10                   Aaron Klein   \n",
       "11               Chris Tomlinson   \n",
       "\n",
       "                                                 text  label  \n",
       "0   House Dem Aide: We Didn’t Even See Comey’s Let...      1  \n",
       "1   Ever get the feeling your life circles the rou...      0  \n",
       "2   Why the Truth Might Get You Fired October 29, ...      1  \n",
       "3   Videos 15 Civilians Killed In Single US Airstr...      1  \n",
       "4   Print \\nAn Iranian woman has been sentenced to...      1  \n",
       "5   In these trying times, Jackie Mason is the Voi...      0  \n",
       "7   PARIS  —   France chose an idealistic, traditi...      0  \n",
       "9   A week before Michael T. Flynn resigned as nat...      0  \n",
       "10  Organizing for Action, the activist group that...      0  \n",
       "11  The BBC produced spoof on the “Real Housewives...      0  "
      ]
     },
     "execution_count": 7,
     "metadata": {},
     "output_type": "execute_result"
    }
   ],
   "source": [
    "df.head(10)"
   ]
  },
  {
   "cell_type": "code",
   "execution_count": 118,
   "id": "bca80a4c",
   "metadata": {},
   "outputs": [
    {
     "data": {
      "text/html": [
       "<div>\n",
       "<style scoped>\n",
       "    .dataframe tbody tr th:only-of-type {\n",
       "        vertical-align: middle;\n",
       "    }\n",
       "\n",
       "    .dataframe tbody tr th {\n",
       "        vertical-align: top;\n",
       "    }\n",
       "\n",
       "    .dataframe thead th {\n",
       "        text-align: right;\n",
       "    }\n",
       "</style>\n",
       "<table border=\"1\" class=\"dataframe\">\n",
       "  <thead>\n",
       "    <tr style=\"text-align: right;\">\n",
       "      <th></th>\n",
       "      <th>index</th>\n",
       "      <th>id</th>\n",
       "      <th>title</th>\n",
       "      <th>author</th>\n",
       "      <th>text</th>\n",
       "    </tr>\n",
       "    <tr>\n",
       "      <th>label</th>\n",
       "      <th></th>\n",
       "      <th></th>\n",
       "      <th></th>\n",
       "      <th></th>\n",
       "      <th></th>\n",
       "    </tr>\n",
       "  </thead>\n",
       "  <tbody>\n",
       "    <tr>\n",
       "      <th>0</th>\n",
       "      <td>10361</td>\n",
       "      <td>10361</td>\n",
       "      <td>10361</td>\n",
       "      <td>10361</td>\n",
       "      <td>10361</td>\n",
       "    </tr>\n",
       "    <tr>\n",
       "      <th>1</th>\n",
       "      <td>7924</td>\n",
       "      <td>7924</td>\n",
       "      <td>7924</td>\n",
       "      <td>7924</td>\n",
       "      <td>7924</td>\n",
       "    </tr>\n",
       "  </tbody>\n",
       "</table>\n",
       "</div>"
      ],
      "text/plain": [
       "       index     id  title  author   text\n",
       "label                                    \n",
       "0      10361  10361  10361   10361  10361\n",
       "1       7924   7924   7924    7924   7924"
      ]
     },
     "execution_count": 118,
     "metadata": {},
     "output_type": "execute_result"
    }
   ],
   "source": [
    "df.groupby('label').count()"
   ]
  },
  {
   "cell_type": "code",
   "execution_count": 8,
   "id": "ee1a42e6",
   "metadata": {},
   "outputs": [
    {
     "data": {
      "text/plain": [
       "(18285, 5)"
      ]
     },
     "execution_count": 8,
     "metadata": {},
     "output_type": "execute_result"
    }
   ],
   "source": [
    "df.shape"
   ]
  },
  {
   "cell_type": "markdown",
   "id": "483ef43e",
   "metadata": {},
   "source": [
    "#### Resetting index of the dataset "
   ]
  },
  {
   "cell_type": "code",
   "execution_count": 9,
   "id": "07e9c843",
   "metadata": {},
   "outputs": [],
   "source": [
    "#resetting index\n",
    "df.reset_index(inplace=True)"
   ]
  },
  {
   "cell_type": "code",
   "execution_count": 10,
   "id": "de957b9f",
   "metadata": {
    "scrolled": true
   },
   "outputs": [
    {
     "data": {
      "text/html": [
       "<div>\n",
       "<style scoped>\n",
       "    .dataframe tbody tr th:only-of-type {\n",
       "        vertical-align: middle;\n",
       "    }\n",
       "\n",
       "    .dataframe tbody tr th {\n",
       "        vertical-align: top;\n",
       "    }\n",
       "\n",
       "    .dataframe thead th {\n",
       "        text-align: right;\n",
       "    }\n",
       "</style>\n",
       "<table border=\"1\" class=\"dataframe\">\n",
       "  <thead>\n",
       "    <tr style=\"text-align: right;\">\n",
       "      <th></th>\n",
       "      <th>index</th>\n",
       "      <th>id</th>\n",
       "      <th>title</th>\n",
       "      <th>author</th>\n",
       "      <th>text</th>\n",
       "      <th>label</th>\n",
       "    </tr>\n",
       "  </thead>\n",
       "  <tbody>\n",
       "    <tr>\n",
       "      <th>0</th>\n",
       "      <td>0</td>\n",
       "      <td>0</td>\n",
       "      <td>House Dem Aide: We Didn’t Even See Comey’s Let...</td>\n",
       "      <td>Darrell Lucus</td>\n",
       "      <td>House Dem Aide: We Didn’t Even See Comey’s Let...</td>\n",
       "      <td>1</td>\n",
       "    </tr>\n",
       "    <tr>\n",
       "      <th>1</th>\n",
       "      <td>1</td>\n",
       "      <td>1</td>\n",
       "      <td>FLYNN: Hillary Clinton, Big Woman on Campus - ...</td>\n",
       "      <td>Daniel J. Flynn</td>\n",
       "      <td>Ever get the feeling your life circles the rou...</td>\n",
       "      <td>0</td>\n",
       "    </tr>\n",
       "    <tr>\n",
       "      <th>2</th>\n",
       "      <td>2</td>\n",
       "      <td>2</td>\n",
       "      <td>Why the Truth Might Get You Fired</td>\n",
       "      <td>Consortiumnews.com</td>\n",
       "      <td>Why the Truth Might Get You Fired October 29, ...</td>\n",
       "      <td>1</td>\n",
       "    </tr>\n",
       "    <tr>\n",
       "      <th>3</th>\n",
       "      <td>3</td>\n",
       "      <td>3</td>\n",
       "      <td>15 Civilians Killed In Single US Airstrike Hav...</td>\n",
       "      <td>Jessica Purkiss</td>\n",
       "      <td>Videos 15 Civilians Killed In Single US Airstr...</td>\n",
       "      <td>1</td>\n",
       "    </tr>\n",
       "    <tr>\n",
       "      <th>4</th>\n",
       "      <td>4</td>\n",
       "      <td>4</td>\n",
       "      <td>Iranian woman jailed for fictional unpublished...</td>\n",
       "      <td>Howard Portnoy</td>\n",
       "      <td>Print \\nAn Iranian woman has been sentenced to...</td>\n",
       "      <td>1</td>\n",
       "    </tr>\n",
       "    <tr>\n",
       "      <th>5</th>\n",
       "      <td>5</td>\n",
       "      <td>5</td>\n",
       "      <td>Jackie Mason: Hollywood Would Love Trump if He...</td>\n",
       "      <td>Daniel Nussbaum</td>\n",
       "      <td>In these trying times, Jackie Mason is the Voi...</td>\n",
       "      <td>0</td>\n",
       "    </tr>\n",
       "    <tr>\n",
       "      <th>6</th>\n",
       "      <td>7</td>\n",
       "      <td>7</td>\n",
       "      <td>Benoît Hamon Wins French Socialist Party’s Pre...</td>\n",
       "      <td>Alissa J. Rubin</td>\n",
       "      <td>PARIS  —   France chose an idealistic, traditi...</td>\n",
       "      <td>0</td>\n",
       "    </tr>\n",
       "    <tr>\n",
       "      <th>7</th>\n",
       "      <td>9</td>\n",
       "      <td>9</td>\n",
       "      <td>A Back-Channel Plan for Ukraine and Russia, Co...</td>\n",
       "      <td>Megan Twohey and Scott Shane</td>\n",
       "      <td>A week before Michael T. Flynn resigned as nat...</td>\n",
       "      <td>0</td>\n",
       "    </tr>\n",
       "    <tr>\n",
       "      <th>8</th>\n",
       "      <td>10</td>\n",
       "      <td>10</td>\n",
       "      <td>Obama’s Organizing for Action Partners with So...</td>\n",
       "      <td>Aaron Klein</td>\n",
       "      <td>Organizing for Action, the activist group that...</td>\n",
       "      <td>0</td>\n",
       "    </tr>\n",
       "    <tr>\n",
       "      <th>9</th>\n",
       "      <td>11</td>\n",
       "      <td>11</td>\n",
       "      <td>BBC Comedy Sketch \"Real Housewives of ISIS\" Ca...</td>\n",
       "      <td>Chris Tomlinson</td>\n",
       "      <td>The BBC produced spoof on the “Real Housewives...</td>\n",
       "      <td>0</td>\n",
       "    </tr>\n",
       "  </tbody>\n",
       "</table>\n",
       "</div>"
      ],
      "text/plain": [
       "   index  id                                              title  \\\n",
       "0      0   0  House Dem Aide: We Didn’t Even See Comey’s Let...   \n",
       "1      1   1  FLYNN: Hillary Clinton, Big Woman on Campus - ...   \n",
       "2      2   2                  Why the Truth Might Get You Fired   \n",
       "3      3   3  15 Civilians Killed In Single US Airstrike Hav...   \n",
       "4      4   4  Iranian woman jailed for fictional unpublished...   \n",
       "5      5   5  Jackie Mason: Hollywood Would Love Trump if He...   \n",
       "6      7   7  Benoît Hamon Wins French Socialist Party’s Pre...   \n",
       "7      9   9  A Back-Channel Plan for Ukraine and Russia, Co...   \n",
       "8     10  10  Obama’s Organizing for Action Partners with So...   \n",
       "9     11  11  BBC Comedy Sketch \"Real Housewives of ISIS\" Ca...   \n",
       "\n",
       "                         author  \\\n",
       "0                 Darrell Lucus   \n",
       "1               Daniel J. Flynn   \n",
       "2            Consortiumnews.com   \n",
       "3               Jessica Purkiss   \n",
       "4                Howard Portnoy   \n",
       "5               Daniel Nussbaum   \n",
       "6               Alissa J. Rubin   \n",
       "7  Megan Twohey and Scott Shane   \n",
       "8                   Aaron Klein   \n",
       "9               Chris Tomlinson   \n",
       "\n",
       "                                                text  label  \n",
       "0  House Dem Aide: We Didn’t Even See Comey’s Let...      1  \n",
       "1  Ever get the feeling your life circles the rou...      0  \n",
       "2  Why the Truth Might Get You Fired October 29, ...      1  \n",
       "3  Videos 15 Civilians Killed In Single US Airstr...      1  \n",
       "4  Print \\nAn Iranian woman has been sentenced to...      1  \n",
       "5  In these trying times, Jackie Mason is the Voi...      0  \n",
       "6  PARIS  —   France chose an idealistic, traditi...      0  \n",
       "7  A week before Michael T. Flynn resigned as nat...      0  \n",
       "8  Organizing for Action, the activist group that...      0  \n",
       "9  The BBC produced spoof on the “Real Housewives...      0  "
      ]
     },
     "execution_count": 10,
     "metadata": {},
     "output_type": "execute_result"
    }
   ],
   "source": [
    "df.head(10)"
   ]
  },
  {
   "cell_type": "markdown",
   "id": "6daee9d2",
   "metadata": {},
   "source": [
    "#### Creating dependent and independent features"
   ]
  },
  {
   "cell_type": "code",
   "execution_count": 11,
   "id": "d0b64c7c",
   "metadata": {},
   "outputs": [],
   "source": [
    "\n",
    "X=df.drop(['label'], axis=1)\n",
    "y=df['label']"
   ]
  },
  {
   "cell_type": "code",
   "execution_count": 12,
   "id": "ab6d06c7",
   "metadata": {
    "scrolled": true
   },
   "outputs": [
    {
     "name": "stdout",
     "output_type": "stream",
     "text": [
      "(18285, 5) (18285,)\n"
     ]
    }
   ],
   "source": [
    "print(X.shape , y.shape)"
   ]
  },
  {
   "cell_type": "markdown",
   "id": "c810bd51",
   "metadata": {},
   "source": [
    "#### Taking vocabulary size of 5000"
   ]
  },
  {
   "cell_type": "code",
   "execution_count": 13,
   "id": "a77c467e",
   "metadata": {},
   "outputs": [],
   "source": [
    "voc_size=5000"
   ]
  },
  {
   "cell_type": "code",
   "execution_count": 14,
   "id": "100e579f",
   "metadata": {},
   "outputs": [],
   "source": [
    "messages=X.copy()"
   ]
  },
  {
   "cell_type": "code",
   "execution_count": 15,
   "id": "a25838c5",
   "metadata": {},
   "outputs": [
    {
     "data": {
      "text/plain": [
       "(18285, 5)"
      ]
     },
     "execution_count": 15,
     "metadata": {},
     "output_type": "execute_result"
    }
   ],
   "source": [
    "messages.shape"
   ]
  },
  {
   "cell_type": "code",
   "execution_count": 19,
   "id": "1efaf16b",
   "metadata": {},
   "outputs": [
    {
     "data": {
      "text/plain": [
       "'FLYNN: Hillary Clinton, Big Woman on Campus - Breitbart'"
      ]
     },
     "execution_count": 19,
     "metadata": {},
     "output_type": "execute_result"
    }
   ],
   "source": [
    "messages['title'][1]"
   ]
  },
  {
   "cell_type": "markdown",
   "id": "24251d13",
   "metadata": {},
   "source": [
    "#### Data Preprocessing of title column"
   ]
  },
  {
   "cell_type": "code",
   "execution_count": 17,
   "id": "eb79dfcf",
   "metadata": {},
   "outputs": [],
   "source": [
    "\n",
    "ps=PorterStemmer() #creatng porterstemmer\n",
    "corpus= []\n",
    "\n",
    "for i in range(0, len(messages)):\n",
    "    review = re.sub('[^a-zA-Z]',' ', messages['title'][i]) #removing special characters\n",
    "    review = review.lower() #converting letters to lower case\n",
    "    review = review.split()\n",
    "   \n",
    "    review=[ps.stem(word) for word in review if not word in stopwords.words('english')] #removing stopwords\n",
    "    review = ' '.join(review)\n",
    "    corpus.append(review) "
   ]
  },
  {
   "cell_type": "code",
   "execution_count": 20,
   "id": "2860c612",
   "metadata": {},
   "outputs": [
    {
     "data": {
      "text/plain": [
       "'flynn hillari clinton big woman campu breitbart'"
      ]
     },
     "execution_count": 20,
     "metadata": {},
     "output_type": "execute_result"
    }
   ],
   "source": [
    "corpus[1]"
   ]
  },
  {
   "cell_type": "markdown",
   "id": "628e7f4f",
   "metadata": {},
   "source": [
    "#### Onehot Representation"
   ]
  },
  {
   "cell_type": "code",
   "execution_count": 21,
   "id": "80c37ed4",
   "metadata": {},
   "outputs": [],
   "source": [
    "onehot_rep=[one_hot(words,voc_size) for words in corpus]"
   ]
  },
  {
   "cell_type": "code",
   "execution_count": 22,
   "id": "f3bed982",
   "metadata": {},
   "outputs": [
    {
     "data": {
      "text/plain": [
       "[3169, 4584, 4542, 3625, 2482, 40, 2114]"
      ]
     },
     "execution_count": 22,
     "metadata": {},
     "output_type": "execute_result"
    }
   ],
   "source": [
    "onehot_rep[1]"
   ]
  },
  {
   "cell_type": "markdown",
   "id": "2308566f",
   "metadata": {},
   "source": [
    "#### Embedding Representation"
   ]
  },
  {
   "cell_type": "code",
   "execution_count": 23,
   "id": "a8c5aa32",
   "metadata": {},
   "outputs": [],
   "source": [
    "sent_length = 20\n",
    "embedded_docs=pad_sequences(onehot_rep, padding='pre', maxlen=sent_length)"
   ]
  },
  {
   "cell_type": "code",
   "execution_count": 24,
   "id": "85fc3318",
   "metadata": {},
   "outputs": [
    {
     "data": {
      "text/plain": [
       "array([[   0,    0,    0, ..., 4282,  676, 1079],\n",
       "       [   0,    0,    0, ..., 2482,   40, 2114],\n",
       "       [   0,    0,    0, ..., 4591, 2447, 2509],\n",
       "       ...,\n",
       "       [   0,    0,    0, ..., 3156, 1340, 2007],\n",
       "       [   0,    0,    0, ..., 4958,  270, 3357],\n",
       "       [   0,    0,    0, ...,  242, 4218, 2610]])"
      ]
     },
     "execution_count": 24,
     "metadata": {},
     "output_type": "execute_result"
    }
   ],
   "source": [
    "embedded_docs"
   ]
  },
  {
   "cell_type": "code",
   "execution_count": 25,
   "id": "20712487",
   "metadata": {},
   "outputs": [
    {
     "data": {
      "text/plain": [
       "array([   0,    0,    0,    0,    0,    0,    0,    0,    0,    0, 2445,\n",
       "       4584, 4613, 3870, 4620, 4721, 2164, 4282,  676, 1079])"
      ]
     },
     "execution_count": 25,
     "metadata": {},
     "output_type": "execute_result"
    }
   ],
   "source": [
    "embedded_docs[0]"
   ]
  },
  {
   "cell_type": "code",
   "execution_count": 26,
   "id": "43203744",
   "metadata": {},
   "outputs": [
    {
     "data": {
      "text/plain": [
       "20"
      ]
     },
     "execution_count": 26,
     "metadata": {},
     "output_type": "execute_result"
    }
   ],
   "source": [
    "len(embedded_docs[0])"
   ]
  },
  {
   "cell_type": "markdown",
   "id": "a9c83cbd",
   "metadata": {},
   "source": [
    "#### Train test split"
   ]
  },
  {
   "cell_type": "code",
   "execution_count": 27,
   "id": "e0213cd4",
   "metadata": {},
   "outputs": [
    {
     "data": {
      "text/plain": [
       "(18285, (18285,))"
      ]
     },
     "execution_count": 27,
     "metadata": {},
     "output_type": "execute_result"
    }
   ],
   "source": [
    "len(embedded_docs),y.shape"
   ]
  },
  {
   "cell_type": "code",
   "execution_count": 28,
   "id": "1c86d7bd",
   "metadata": {},
   "outputs": [],
   "source": [
    "X_final=np.array(embedded_docs)\n",
    "y_final=np.array(y)"
   ]
  },
  {
   "cell_type": "code",
   "execution_count": 29,
   "id": "0479cd85",
   "metadata": {},
   "outputs": [
    {
     "data": {
      "text/plain": [
       "((18285, 20), (18285,))"
      ]
     },
     "execution_count": 29,
     "metadata": {},
     "output_type": "execute_result"
    }
   ],
   "source": [
    "X_final.shape,y_final.shape"
   ]
  },
  {
   "cell_type": "code",
   "execution_count": 30,
   "id": "9ae4cded",
   "metadata": {},
   "outputs": [],
   "source": [
    "from sklearn.model_selection import train_test_split\n",
    "X_train, X_test, y_train, y_test = train_test_split(X_final, y_final, test_size=0.33, random_state=42)"
   ]
  },
  {
   "cell_type": "markdown",
   "id": "87656705",
   "metadata": {},
   "source": [
    "#### Creating LSTM model"
   ]
  },
  {
   "cell_type": "code",
   "execution_count": 31,
   "id": "ddb0754e",
   "metadata": {},
   "outputs": [
    {
     "name": "stdout",
     "output_type": "stream",
     "text": [
      "Model: \"sequential\"\n",
      "_________________________________________________________________\n",
      " Layer (type)                Output Shape              Param #   \n",
      "=================================================================\n",
      " embedding (Embedding)       (None, 20, 40)            200000    \n",
      "                                                                 \n",
      " lstm (LSTM)                 (None, 100)               56400     \n",
      "                                                                 \n",
      " dense (Dense)               (None, 1)                 101       \n",
      "                                                                 \n",
      "=================================================================\n",
      "Total params: 256,501\n",
      "Trainable params: 256,501\n",
      "Non-trainable params: 0\n",
      "_________________________________________________________________\n"
     ]
    }
   ],
   "source": [
    "embedding_vector_features=40\n",
    "model=Sequential()\n",
    "model.add(Embedding(voc_size, embedding_vector_features, input_length=sent_length))\n",
    "model.add(LSTM(100))\n",
    "model.add(Dense(1, activation='sigmoid'))\n",
    "model.compile(loss='binary_crossentropy', optimizer='adam', metrics=['accuracy'])\n",
    "model.summary()"
   ]
  },
  {
   "cell_type": "markdown",
   "id": "35901ab6",
   "metadata": {},
   "source": [
    "#### Training the model"
   ]
  },
  {
   "cell_type": "code",
   "execution_count": 32,
   "id": "74351782",
   "metadata": {},
   "outputs": [
    {
     "name": "stdout",
     "output_type": "stream",
     "text": [
      "Epoch 1/10\n",
      "205/205 [==============================] - 5s 15ms/step - loss: 0.3229 - accuracy: 0.8510 - val_loss: 0.1940 - val_accuracy: 0.9200\n",
      "Epoch 2/10\n",
      "205/205 [==============================] - 3s 14ms/step - loss: 0.1389 - accuracy: 0.9470 - val_loss: 0.2040 - val_accuracy: 0.9198\n",
      "Epoch 3/10\n",
      "205/205 [==============================] - 3s 13ms/step - loss: 0.0907 - accuracy: 0.9668 - val_loss: 0.2587 - val_accuracy: 0.9201\n",
      "Epoch 4/10\n",
      "205/205 [==============================] - 3s 13ms/step - loss: 0.0595 - accuracy: 0.9790 - val_loss: 0.2758 - val_accuracy: 0.9118\n",
      "Epoch 5/10\n",
      "205/205 [==============================] - 3s 13ms/step - loss: 0.0386 - accuracy: 0.9880 - val_loss: 0.3103 - val_accuracy: 0.9080\n",
      "Epoch 6/10\n",
      "205/205 [==============================] - 3s 13ms/step - loss: 0.0201 - accuracy: 0.9942 - val_loss: 0.3814 - val_accuracy: 0.9132\n",
      "Epoch 7/10\n",
      "205/205 [==============================] - 3s 13ms/step - loss: 0.0108 - accuracy: 0.9963 - val_loss: 0.4940 - val_accuracy: 0.9162\n",
      "Epoch 8/10\n",
      "205/205 [==============================] - 3s 13ms/step - loss: 0.0162 - accuracy: 0.9949 - val_loss: 0.4689 - val_accuracy: 0.9060\n",
      "Epoch 9/10\n",
      "205/205 [==============================] - 3s 13ms/step - loss: 0.0047 - accuracy: 0.9988 - val_loss: 0.5591 - val_accuracy: 0.9127\n",
      "Epoch 10/10\n",
      "205/205 [==============================] - 3s 13ms/step - loss: 0.0039 - accuracy: 0.9993 - val_loss: 0.5152 - val_accuracy: 0.9062\n"
     ]
    },
    {
     "data": {
      "text/plain": [
       "<keras.callbacks.History at 0x1b5399ba790>"
      ]
     },
     "execution_count": 32,
     "metadata": {},
     "output_type": "execute_result"
    }
   ],
   "source": [
    "model.fit(X_train, y_train, validation_data=(X_test,y_test), epochs=10, batch_size=60)"
   ]
  },
  {
   "cell_type": "markdown",
   "id": "f1afea95",
   "metadata": {},
   "source": [
    "#### Performance Metrics And Accuracy"
   ]
  },
  {
   "cell_type": "code",
   "execution_count": 33,
   "id": "41cf5d26",
   "metadata": {},
   "outputs": [
    {
     "name": "stdout",
     "output_type": "stream",
     "text": [
      "189/189 [==============================] - 1s 3ms/step\n"
     ]
    }
   ],
   "source": [
    "predictions = (model.predict(X_test) > 0.5).astype(\"int32\")"
   ]
  },
  {
   "cell_type": "code",
   "execution_count": 34,
   "id": "cfcb6f35",
   "metadata": {},
   "outputs": [],
   "source": [
    "from sklearn.metrics import accuracy_score, confusion_matrix, classification_report"
   ]
  },
  {
   "cell_type": "code",
   "execution_count": 35,
   "id": "85df8835",
   "metadata": {},
   "outputs": [
    {
     "name": "stdout",
     "output_type": "stream",
     "text": [
      "[[3147  272]\n",
      " [ 294 2322]]\n"
     ]
    }
   ],
   "source": [
    "print(confusion_matrix(y_test,predictions))"
   ]
  },
  {
   "cell_type": "code",
   "execution_count": 36,
   "id": "78d5675b",
   "metadata": {},
   "outputs": [
    {
     "name": "stdout",
     "output_type": "stream",
     "text": [
      "              precision    recall  f1-score   support\n",
      "\n",
      "           0       0.91      0.92      0.92      3419\n",
      "           1       0.90      0.89      0.89      2616\n",
      "\n",
      "    accuracy                           0.91      6035\n",
      "   macro avg       0.90      0.90      0.90      6035\n",
      "weighted avg       0.91      0.91      0.91      6035\n",
      "\n"
     ]
    }
   ],
   "source": [
    "print(classification_report(y_test,predictions))"
   ]
  },
  {
   "cell_type": "code",
   "execution_count": 37,
   "id": "41728113",
   "metadata": {
    "scrolled": true
   },
   "outputs": [
    {
     "data": {
      "text/plain": [
       "0.9062137531068766"
      ]
     },
     "execution_count": 37,
     "metadata": {},
     "output_type": "execute_result"
    }
   ],
   "source": [
    "accuracy_score(y_test,predictions)"
   ]
  },
  {
   "cell_type": "markdown",
   "id": "e43df990",
   "metadata": {},
   "source": [
    "#### Adding Dropout"
   ]
  },
  {
   "cell_type": "code",
   "execution_count": 38,
   "id": "00a57e5c",
   "metadata": {},
   "outputs": [],
   "source": [
    "from tensorflow.keras.layers import Dropout\n",
    "## Creating model\n",
    "embedding_vector_features=40\n",
    "model=Sequential()\n",
    "model.add(Embedding(voc_size,embedding_vector_features,input_length=sent_length))\n",
    "model.add(Dropout(0.3))\n",
    "model.add(LSTM(100))\n",
    "model.add(Dropout(0.3))\n",
    "model.add(Dense(1,activation='sigmoid'))\n",
    "model.compile(loss='binary_crossentropy',optimizer='adam',metrics=['accuracy'])"
   ]
  },
  {
   "cell_type": "code",
   "execution_count": 39,
   "id": "d8c419bd",
   "metadata": {},
   "outputs": [
    {
     "name": "stdout",
     "output_type": "stream",
     "text": [
      "Model: \"sequential_1\"\n",
      "_________________________________________________________________\n",
      " Layer (type)                Output Shape              Param #   \n",
      "=================================================================\n",
      " embedding_1 (Embedding)     (None, 20, 40)            200000    \n",
      "                                                                 \n",
      " dropout (Dropout)           (None, 20, 40)            0         \n",
      "                                                                 \n",
      " lstm_1 (LSTM)               (None, 100)               56400     \n",
      "                                                                 \n",
      " dropout_1 (Dropout)         (None, 100)               0         \n",
      "                                                                 \n",
      " dense_1 (Dense)             (None, 1)                 101       \n",
      "                                                                 \n",
      "=================================================================\n",
      "Total params: 256,501\n",
      "Trainable params: 256,501\n",
      "Non-trainable params: 0\n",
      "_________________________________________________________________\n"
     ]
    }
   ],
   "source": [
    "model.summary()"
   ]
  },
  {
   "cell_type": "code",
   "execution_count": 40,
   "id": "fc4096a7",
   "metadata": {
    "scrolled": true
   },
   "outputs": [
    {
     "name": "stdout",
     "output_type": "stream",
     "text": [
      "Epoch 1/10\n",
      "205/205 [==============================] - 4s 15ms/step - loss: 0.3337 - accuracy: 0.8399 - val_loss: 0.1918 - val_accuracy: 0.9193\n",
      "Epoch 2/10\n",
      "205/205 [==============================] - 3s 13ms/step - loss: 0.1486 - accuracy: 0.9414 - val_loss: 0.1916 - val_accuracy: 0.9168\n",
      "Epoch 3/10\n",
      "205/205 [==============================] - 3s 13ms/step - loss: 0.0981 - accuracy: 0.9633 - val_loss: 0.1995 - val_accuracy: 0.9186\n",
      "Epoch 4/10\n",
      "205/205 [==============================] - 3s 13ms/step - loss: 0.0698 - accuracy: 0.9748 - val_loss: 0.2476 - val_accuracy: 0.9186\n",
      "Epoch 5/10\n",
      "205/205 [==============================] - 3s 14ms/step - loss: 0.0488 - accuracy: 0.9840 - val_loss: 0.2766 - val_accuracy: 0.9059\n",
      "Epoch 6/10\n",
      "205/205 [==============================] - 3s 13ms/step - loss: 0.0325 - accuracy: 0.9900 - val_loss: 0.3720 - val_accuracy: 0.9193\n",
      "Epoch 7/10\n",
      "205/205 [==============================] - 3s 13ms/step - loss: 0.0216 - accuracy: 0.9930 - val_loss: 0.3989 - val_accuracy: 0.9163\n",
      "Epoch 8/10\n",
      "205/205 [==============================] - 3s 13ms/step - loss: 0.0178 - accuracy: 0.9949 - val_loss: 0.4053 - val_accuracy: 0.9128\n",
      "Epoch 9/10\n",
      "205/205 [==============================] - 3s 13ms/step - loss: 0.0147 - accuracy: 0.9954 - val_loss: 0.4693 - val_accuracy: 0.9150\n",
      "Epoch 10/10\n",
      "205/205 [==============================] - 3s 13ms/step - loss: 0.0111 - accuracy: 0.9962 - val_loss: 0.4809 - val_accuracy: 0.9123\n"
     ]
    }
   ],
   "source": [
    "history=model.fit(X_train, y_train, validation_data=(X_test,y_test), epochs=10, batch_size=60)"
   ]
  },
  {
   "cell_type": "code",
   "execution_count": 41,
   "id": "f82555a4",
   "metadata": {},
   "outputs": [
    {
     "name": "stdout",
     "output_type": "stream",
     "text": [
      "189/189 [==============================] - 1s 3ms/step\n"
     ]
    }
   ],
   "source": [
    "predictions = (model.predict(X_test) > 0.5).astype(\"int32\")"
   ]
  },
  {
   "cell_type": "code",
   "execution_count": 42,
   "id": "4e918541",
   "metadata": {},
   "outputs": [
    {
     "data": {
      "text/plain": [
       "0.9123446561723281"
      ]
     },
     "execution_count": 42,
     "metadata": {},
     "output_type": "execute_result"
    }
   ],
   "source": [
    "accuracy_score(y_test,predictions)"
   ]
  },
  {
   "cell_type": "code",
   "execution_count": 43,
   "id": "6c9d0c71",
   "metadata": {},
   "outputs": [
    {
     "name": "stdout",
     "output_type": "stream",
     "text": [
      "[[3149  270]\n",
      " [ 259 2357]]\n"
     ]
    },
    {
     "data": {
      "text/plain": [
       "<AxesSubplot:>"
      ]
     },
     "execution_count": 43,
     "metadata": {},
     "output_type": "execute_result"
    },
    {
     "data": {
      "image/png": "[encoded data removed]",
      "text/plain": [
       "<Figure size 432x288 with 2 Axes>"
      ]
     },
     "metadata": {
      "needs_background": "light"
     },
     "output_type": "display_data"
    }
   ],
   "source": [
    "import seaborn as sns\n",
    "cf=confusion_matrix(y_test,predictions)\n",
    "print(cf)\n",
    "sns.heatmap(cf,annot=True)"
   ]
  },
  {
   "cell_type": "code",
   "execution_count": 44,
   "id": "eb25f642",
   "metadata": {},
   "outputs": [
    {
     "name": "stdout",
     "output_type": "stream",
     "text": [
      "              precision    recall  f1-score   support\n",
      "\n",
      "           0       0.92      0.92      0.92      3419\n",
      "           1       0.90      0.90      0.90      2616\n",
      "\n",
      "    accuracy                           0.91      6035\n",
      "   macro avg       0.91      0.91      0.91      6035\n",
      "weighted avg       0.91      0.91      0.91      6035\n",
      "\n"
     ]
    }
   ],
   "source": [
    "print(classification_report(y_test, predictions))"
   ]
  },
  {
   "cell_type": "code",
   "execution_count": 45,
   "id": "28a2d9af",
   "metadata": {},
   "outputs": [
    {
     "data": {
      "text/plain": [
       "0.9123446561723281"
      ]
     },
     "execution_count": 45,
     "metadata": {},
     "output_type": "execute_result"
    }
   ],
   "source": [
    "accuracy_score(y_test,predictions)"
   ]
  },
  {
   "cell_type": "code",
   "execution_count": 46,
   "id": "e6d5465a",
   "metadata": {},
   "outputs": [
    {
     "data": {
      "image/png": "[encoded data removed]",
      "text/plain": [
       "<Figure size 432x288 with 1 Axes>"
      ]
     },
     "metadata": {
      "needs_background": "light"
     },
     "output_type": "display_data"
    }
   ],
   "source": [
    "import keras\n",
    "from matplotlib import pyplot as plt\n",
    "#history = model.fit(X_train, y_train,validation_split = 0.1, epochs=50, batch_size=4)\n",
    "plt.plot(history.history['accuracy'])\n",
    "plt.plot(history.history['val_accuracy'])\n",
    "plt.title('model accuracy')\n",
    "plt.ylabel('accuracy')\n",
    "plt.xlabel('epoch')\n",
    "plt.legend(['train', 'val'], loc='upper left')\n",
    "plt.show()"
   ]
  },
  {
   "cell_type": "code",
   "execution_count": 47,
   "id": "e48df93e",
   "metadata": {},
   "outputs": [
    {
     "data": {
      "image/png": "[encoded data removed]",
      "text/plain": [
       "<Figure size 432x288 with 1 Axes>"
      ]
     },
     "metadata": {
      "needs_background": "light"
     },
     "output_type": "display_data"
    }
   ],
   "source": [
    "plt.plot(history.history[\"loss\"])\n",
    "plt.plot(history.history[\"val_loss\"])\n",
    "plt.title('model loss')\n",
    "plt.legend(['train', 'val'], loc='upper left')\n",
    "plt.show()"
   ]
  },
  {
   "cell_type": "markdown",
   "id": "6eacba5e",
   "metadata": {},
   "source": [
    "#### Prediction with Test Dataset"
   ]
  },
  {
   "cell_type": "code",
   "execution_count": 48,
   "id": "8a3ae035",
   "metadata": {},
   "outputs": [],
   "source": [
    "df_test=pd.read_csv('fake-news/test.csv')"
   ]
  },
  {
   "cell_type": "code",
   "execution_count": 49,
   "id": "09a3ff75",
   "metadata": {},
   "outputs": [
    {
     "data": {
      "text/html": [
       "<div>\n",
       "<style scoped>\n",
       "    .dataframe tbody tr th:only-of-type {\n",
       "        vertical-align: middle;\n",
       "    }\n",
       "\n",
       "    .dataframe tbody tr th {\n",
       "        vertical-align: top;\n",
       "    }\n",
       "\n",
       "    .dataframe thead th {\n",
       "        text-align: right;\n",
       "    }\n",
       "</style>\n",
       "<table border=\"1\" class=\"dataframe\">\n",
       "  <thead>\n",
       "    <tr style=\"text-align: right;\">\n",
       "      <th></th>\n",
       "      <th>id</th>\n",
       "      <th>title</th>\n",
       "      <th>author</th>\n",
       "      <th>text</th>\n",
       "    </tr>\n",
       "  </thead>\n",
       "  <tbody>\n",
       "    <tr>\n",
       "      <th>0</th>\n",
       "      <td>20800</td>\n",
       "      <td>Specter of Trump Loosens Tongues, if Not Purse...</td>\n",
       "      <td>David Streitfeld</td>\n",
       "      <td>PALO ALTO, Calif.  —   After years of scorning...</td>\n",
       "    </tr>\n",
       "    <tr>\n",
       "      <th>1</th>\n",
       "      <td>20801</td>\n",
       "      <td>Russian warships ready to strike terrorists ne...</td>\n",
       "      <td>NaN</td>\n",
       "      <td>Russian warships ready to strike terrorists ne...</td>\n",
       "    </tr>\n",
       "    <tr>\n",
       "      <th>2</th>\n",
       "      <td>20802</td>\n",
       "      <td>#NoDAPL: Native American Leaders Vow to Stay A...</td>\n",
       "      <td>Common Dreams</td>\n",
       "      <td>Videos #NoDAPL: Native American Leaders Vow to...</td>\n",
       "    </tr>\n",
       "    <tr>\n",
       "      <th>3</th>\n",
       "      <td>20803</td>\n",
       "      <td>Tim Tebow Will Attempt Another Comeback, This ...</td>\n",
       "      <td>Daniel Victor</td>\n",
       "      <td>If at first you don’t succeed, try a different...</td>\n",
       "    </tr>\n",
       "    <tr>\n",
       "      <th>4</th>\n",
       "      <td>20804</td>\n",
       "      <td>Keiser Report: Meme Wars (E995)</td>\n",
       "      <td>Truth Broadcast Network</td>\n",
       "      <td>42 mins ago 1 Views 0 Comments 0 Likes 'For th...</td>\n",
       "    </tr>\n",
       "  </tbody>\n",
       "</table>\n",
       "</div>"
      ],
      "text/plain": [
       "      id                                              title  \\\n",
       "0  20800  Specter of Trump Loosens Tongues, if Not Purse...   \n",
       "1  20801  Russian warships ready to strike terrorists ne...   \n",
       "2  20802  #NoDAPL: Native American Leaders Vow to Stay A...   \n",
       "3  20803  Tim Tebow Will Attempt Another Comeback, This ...   \n",
       "4  20804                    Keiser Report: Meme Wars (E995)   \n",
       "\n",
       "                    author                                               text  \n",
       "0         David Streitfeld  PALO ALTO, Calif.  —   After years of scorning...  \n",
       "1                      NaN  Russian warships ready to strike terrorists ne...  \n",
       "2            Common Dreams  Videos #NoDAPL: Native American Leaders Vow to...  \n",
       "3            Daniel Victor  If at first you don’t succeed, try a different...  \n",
       "4  Truth Broadcast Network  42 mins ago 1 Views 0 Comments 0 Likes 'For th...  "
      ]
     },
     "execution_count": 49,
     "metadata": {},
     "output_type": "execute_result"
    }
   ],
   "source": [
    "df_test.head()"
   ]
  },
  {
   "cell_type": "code",
   "execution_count": 50,
   "id": "620d18f8",
   "metadata": {},
   "outputs": [
    {
     "data": {
      "text/plain": [
       "(5200, 4)"
      ]
     },
     "execution_count": 50,
     "metadata": {},
     "output_type": "execute_result"
    }
   ],
   "source": [
    "df_test.shape"
   ]
  },
  {
   "cell_type": "code",
   "execution_count": 51,
   "id": "9ba521fc",
   "metadata": {},
   "outputs": [
    {
     "data": {
      "text/plain": [
       "id          0\n",
       "title     122\n",
       "author    503\n",
       "text        7\n",
       "dtype: int64"
      ]
     },
     "execution_count": 51,
     "metadata": {},
     "output_type": "execute_result"
    }
   ],
   "source": [
    "df_test.isna().sum()"
   ]
  },
  {
   "cell_type": "code",
   "execution_count": 52,
   "id": "10fc0a27",
   "metadata": {},
   "outputs": [],
   "source": [
    "df_test.dropna(inplace=True)"
   ]
  },
  {
   "cell_type": "code",
   "execution_count": 53,
   "id": "c477e7fd",
   "metadata": {},
   "outputs": [
    {
     "data": {
      "text/plain": [
       "(4575, 4)"
      ]
     },
     "execution_count": 53,
     "metadata": {},
     "output_type": "execute_result"
    }
   ],
   "source": [
    "df_test.shape"
   ]
  },
  {
   "cell_type": "code",
   "execution_count": 55,
   "id": "420eb7e1",
   "metadata": {},
   "outputs": [],
   "source": [
    "df_test.reset_index(inplace=True)"
   ]
  },
  {
   "cell_type": "code",
   "execution_count": 56,
   "id": "23d1ca59",
   "metadata": {},
   "outputs": [
    {
     "data": {
      "text/html": [
       "<div>\n",
       "<style scoped>\n",
       "    .dataframe tbody tr th:only-of-type {\n",
       "        vertical-align: middle;\n",
       "    }\n",
       "\n",
       "    .dataframe tbody tr th {\n",
       "        vertical-align: top;\n",
       "    }\n",
       "\n",
       "    .dataframe thead th {\n",
       "        text-align: right;\n",
       "    }\n",
       "</style>\n",
       "<table border=\"1\" class=\"dataframe\">\n",
       "  <thead>\n",
       "    <tr style=\"text-align: right;\">\n",
       "      <th></th>\n",
       "      <th>index</th>\n",
       "      <th>id</th>\n",
       "      <th>title</th>\n",
       "      <th>author</th>\n",
       "      <th>text</th>\n",
       "    </tr>\n",
       "  </thead>\n",
       "  <tbody>\n",
       "    <tr>\n",
       "      <th>0</th>\n",
       "      <td>0</td>\n",
       "      <td>20800</td>\n",
       "      <td>Specter of Trump Loosens Tongues, if Not Purse...</td>\n",
       "      <td>David Streitfeld</td>\n",
       "      <td>PALO ALTO, Calif.  —   After years of scorning...</td>\n",
       "    </tr>\n",
       "    <tr>\n",
       "      <th>1</th>\n",
       "      <td>2</td>\n",
       "      <td>20802</td>\n",
       "      <td>#NoDAPL: Native American Leaders Vow to Stay A...</td>\n",
       "      <td>Common Dreams</td>\n",
       "      <td>Videos #NoDAPL: Native American Leaders Vow to...</td>\n",
       "    </tr>\n",
       "    <tr>\n",
       "      <th>2</th>\n",
       "      <td>3</td>\n",
       "      <td>20803</td>\n",
       "      <td>Tim Tebow Will Attempt Another Comeback, This ...</td>\n",
       "      <td>Daniel Victor</td>\n",
       "      <td>If at first you don’t succeed, try a different...</td>\n",
       "    </tr>\n",
       "    <tr>\n",
       "      <th>3</th>\n",
       "      <td>4</td>\n",
       "      <td>20804</td>\n",
       "      <td>Keiser Report: Meme Wars (E995)</td>\n",
       "      <td>Truth Broadcast Network</td>\n",
       "      <td>42 mins ago 1 Views 0 Comments 0 Likes 'For th...</td>\n",
       "    </tr>\n",
       "    <tr>\n",
       "      <th>4</th>\n",
       "      <td>6</td>\n",
       "      <td>20806</td>\n",
       "      <td>Pelosi Calls for FBI Investigation to Find Out...</td>\n",
       "      <td>Pam Key</td>\n",
       "      <td>Sunday on NBC’s “Meet the Press,” House Minori...</td>\n",
       "    </tr>\n",
       "    <tr>\n",
       "      <th>5</th>\n",
       "      <td>7</td>\n",
       "      <td>20807</td>\n",
       "      <td>Weekly Featured Profile – Randy Shannon</td>\n",
       "      <td>Trevor Loudon</td>\n",
       "      <td>You are here: Home / *Articles of the Bound* /...</td>\n",
       "    </tr>\n",
       "    <tr>\n",
       "      <th>6</th>\n",
       "      <td>10</td>\n",
       "      <td>20810</td>\n",
       "      <td>184 U.S. generals and admirals endorse Trump f...</td>\n",
       "      <td>Dr. Eowyn</td>\n",
       "      <td>Have you seen that pro-Hillary TV ad of disgra...</td>\n",
       "    </tr>\n",
       "    <tr>\n",
       "      <th>7</th>\n",
       "      <td>11</td>\n",
       "      <td>20811</td>\n",
       "      <td>“Working Class Hero” by John Brennon</td>\n",
       "      <td>Doug Diamond</td>\n",
       "      <td>Source: CNBC, article by Robert Ferris Arctic ...</td>\n",
       "    </tr>\n",
       "    <tr>\n",
       "      <th>8</th>\n",
       "      <td>12</td>\n",
       "      <td>20812</td>\n",
       "      <td>The Rise of Mandatory Vaccinations Means the E...</td>\n",
       "      <td>Shaun Bradley</td>\n",
       "      <td>Written by Shaun Bradley   Mandatory vaccinati...</td>\n",
       "    </tr>\n",
       "    <tr>\n",
       "      <th>9</th>\n",
       "      <td>13</td>\n",
       "      <td>20813</td>\n",
       "      <td>Communists Terrorize Small Business</td>\n",
       "      <td>Steve Watson</td>\n",
       "      <td>Store Communists Terrorize Small Business The ...</td>\n",
       "    </tr>\n",
       "  </tbody>\n",
       "</table>\n",
       "</div>"
      ],
      "text/plain": [
       "   index     id                                              title  \\\n",
       "0      0  20800  Specter of Trump Loosens Tongues, if Not Purse...   \n",
       "1      2  20802  #NoDAPL: Native American Leaders Vow to Stay A...   \n",
       "2      3  20803  Tim Tebow Will Attempt Another Comeback, This ...   \n",
       "3      4  20804                    Keiser Report: Meme Wars (E995)   \n",
       "4      6  20806  Pelosi Calls for FBI Investigation to Find Out...   \n",
       "5      7  20807            Weekly Featured Profile – Randy Shannon   \n",
       "6     10  20810  184 U.S. generals and admirals endorse Trump f...   \n",
       "7     11  20811               “Working Class Hero” by John Brennon   \n",
       "8     12  20812  The Rise of Mandatory Vaccinations Means the E...   \n",
       "9     13  20813                Communists Terrorize Small Business   \n",
       "\n",
       "                    author                                               text  \n",
       "0         David Streitfeld  PALO ALTO, Calif.  —   After years of scorning...  \n",
       "1            Common Dreams  Videos #NoDAPL: Native American Leaders Vow to...  \n",
       "2            Daniel Victor  If at first you don’t succeed, try a different...  \n",
       "3  Truth Broadcast Network  42 mins ago 1 Views 0 Comments 0 Likes 'For th...  \n",
       "4                  Pam Key  Sunday on NBC’s “Meet the Press,” House Minori...  \n",
       "5            Trevor Loudon  You are here: Home / *Articles of the Bound* /...  \n",
       "6                Dr. Eowyn  Have you seen that pro-Hillary TV ad of disgra...  \n",
       "7             Doug Diamond  Source: CNBC, article by Robert Ferris Arctic ...  \n",
       "8            Shaun Bradley  Written by Shaun Bradley   Mandatory vaccinati...  \n",
       "9             Steve Watson  Store Communists Terrorize Small Business The ...  "
      ]
     },
     "execution_count": 56,
     "metadata": {},
     "output_type": "execute_result"
    }
   ],
   "source": [
    "df_test.head(10)"
   ]
  },
  {
   "cell_type": "code",
   "execution_count": 57,
   "id": "f607da14",
   "metadata": {},
   "outputs": [
    {
     "data": {
      "text/plain": [
       "4575"
      ]
     },
     "execution_count": 57,
     "metadata": {},
     "output_type": "execute_result"
    }
   ],
   "source": [
    "len(df_test)"
   ]
  },
  {
   "cell_type": "code",
   "execution_count": 59,
   "id": "5c8d1554",
   "metadata": {},
   "outputs": [],
   "source": [
    "lines_test = []\n",
    "for i in df_test.title:\n",
    "    words=\"\"\n",
    "    q=i.lower()\n",
    "    q=re.sub('[^a-zA-Z]', ' ',q)\n",
    "    q=q.split()\n",
    "    \n",
    "    for j in q:\n",
    "        if(j not in stopwords.words('english')):\n",
    "            words=words +\" \"+j\n",
    "    lines_test.append(words)"
   ]
  },
  {
   "cell_type": "code",
   "execution_count": 60,
   "id": "f6dae1b3",
   "metadata": {},
   "outputs": [
    {
     "data": {
      "text/plain": [
       "' specter trump loosens tongues purse strings silicon valley new york times'"
      ]
     },
     "execution_count": 60,
     "metadata": {},
     "output_type": "execute_result"
    }
   ],
   "source": [
    "lines_test[0]"
   ]
  },
  {
   "cell_type": "code",
   "execution_count": 61,
   "id": "520a638c",
   "metadata": {},
   "outputs": [
    {
     "data": {
      "text/plain": [
       "[[1664, 305, 3532, 2408, 4426, 86, 2697, 3501, 3156, 1340, 1253],\n",
       " [3114, 642, 1319, 968, 279, 140, 2959, 4702, 2224, 4540],\n",
       " [4005, 1531, 2566, 3298, 691, 2007, 467, 3156, 1340, 1253],\n",
       " [1356, 2933, 1796, 1528, 933],\n",
       " [2987, 3833, 3938, 523, 2456, 1845, 847, 305, 2114],\n",
       " [166, 21, 681, 2823, 2237],\n",
       " [2941, 2464, 899, 4981, 305, 4453, 4661],\n",
       " [1703, 404, 3833, 4862, 741],\n",
       " [447, 2099, 3209, 409, 3670, 2570, 1680],\n",
       " [937, 1047, 3268, 2806],\n",
       " [2887, 3566, 2864, 3443, 2461, 4547, 2693, 1431, 2241, 305, 550, 373, 1549],\n",
       " [1522, 3361, 2577, 2162, 508, 3975, 2692, 3156, 1340, 1253],\n",
       " [3156,\n",
       "  2926,\n",
       "  3666,\n",
       "  4991,\n",
       "  3865,\n",
       "  2425,\n",
       "  4070,\n",
       "  4218,\n",
       "  4925,\n",
       "  265,\n",
       "  2651,\n",
       "  3156,\n",
       "  1340,\n",
       "  1253],\n",
       " [2779, 4087, 926, 1063, 2811, 3496, 1716, 4828, 2114],\n",
       " [305, 452, 1124, 4124, 3328, 4958, 1636, 527, 4542],\n",
       " [1100, 915, 4441, 3272, 2835, 2954, 3015, 4172, 3156, 1340, 1253],\n",
       " [1037, 1136, 3421, 4819, 2435, 2975, 3134, 3484],\n",
       " [3934, 1189, 3934, 2218, 847, 305, 256, 737, 343],\n",
       " [3008, 604, 76, 305, 1899, 3852],\n",
       " [3496, 1716, 3762, 556, 2937, 1466, 1020, 2143, 2035, 3585, 1899, 4377, 109],\n",
       " [4022, 1610, 4701, 4176, 3031, 4974, 3911, 3156, 1340, 1253],\n",
       " [655, 754, 4066, 1197, 1535, 1459, 128, 4390, 670],\n",
       " [792, 2527, 3663, 1746, 4202, 847, 305, 3686, 4045, 22, 3156, 1340, 1253],\n",
       " [2686, 3156, 2317, 3560, 3805, 4594, 2783, 3156, 1340, 1253],\n",
       " [],\n",
       " [414, 482, 305, 4533, 3134, 45, 1483, 2114],\n",
       " [2261, 601, 951, 847, 305, 2067, 4124, 905, 2423],\n",
       " [1253, 4435, 959, 4957, 4519, 1270, 854, 2733, 3156, 1340, 1253],\n",
       " [188, 2437, 792, 2183, 64, 4186, 4928, 1902, 3156, 1340, 1253],\n",
       " [2917, 3249, 999, 3106, 1309, 1452, 1705, 1213, 3156, 1340, 1253],\n",
       " [729, 698, 4621, 2484, 4811, 2338, 3433, 305, 597, 1506, 2114],\n",
       " [4794, 305, 1782, 2994, 4132, 2915],\n",
       " [4701, 3938],\n",
       " [2266, 207, 1674, 781, 1464, 690, 4112, 1765, 3156, 1340, 1253],\n",
       " [367, 3240, 2146, 2692, 4434, 1876, 4987, 1204, 3156, 1340, 1253],\n",
       " [305, 800, 4402, 1408, 1420, 2355, 1924, 1924, 1977, 2114],\n",
       " [4282, 4860, 64, 737, 343, 3455, 1718, 305, 3156, 1340, 1253],\n",
       " [4942, 789, 853, 331, 3156, 2218, 4756, 4594, 966, 3156, 1340, 1253],\n",
       " [651, 890, 4900, 4299, 4005, 1875, 4838, 1164, 2114],\n",
       " [2941, 4070, 4661, 1723, 4395, 4909, 2670, 238, 64, 678, 3156, 1340, 1253],\n",
       " [108, 4790, 3526, 3621, 3342, 2073, 1677, 3156, 1340, 1253],\n",
       " [2673, 4065, 141, 3894, 967, 1908, 2497, 475, 3156, 1340, 1253],\n",
       " [737, 343, 64, 2534, 440, 3113, 1927, 3621, 4542, 3406],\n",
       " [2941, 3695, 2618, 627, 2493, 743, 3878, 4447, 3156, 1340, 1253],\n",
       " [1125, 3550, 3429, 500, 4971, 3990, 3080, 2252, 2335, 3246],\n",
       " [2, 402, 856, 4784, 4220, 4671, 4824, 3156, 1340, 1253],\n",
       " [3117, 3096, 2675, 4137, 3087, 567, 1479, 3156, 1340, 1253],\n",
       " [1991, 260, 4458, 4029, 1007, 2941, 1117, 2556, 3156, 1340, 1253],\n",
       " [1735, 1111, 3448, 4542, 3406, 4862],\n",
       " [4542, 305, 4095, 1603, 4345, 3147],\n",
       " [3760, 817, 1125, 624, 4572, 4447],\n",
       " [1095,\n",
       "  2370,\n",
       "  3939,\n",
       "  2762,\n",
       "  2145,\n",
       "  1636,\n",
       "  3156,\n",
       "  2941,\n",
       "  3479,\n",
       "  305,\n",
       "  737,\n",
       "  343,\n",
       "  2980,\n",
       "  2114],\n",
       " [2969, 592, 421, 856, 1604, 592, 283, 295],\n",
       " [128, 4542, 1485, 1228, 1052, 3425, 786, 128],\n",
       " [1382, 4180, 1538, 527],\n",
       " [218, 2582, 4027, 2423],\n",
       " [847, 305, 4140, 399, 4050, 264, 4699, 3160, 2187, 3670, 2114],\n",
       " [670, 2230, 4894, 314, 4383, 4458, 1429, 308],\n",
       " [3018, 612, 1446, 1508, 1126],\n",
       " [1735, 4940, 4876, 504, 3156, 1340, 1253],\n",
       " [2902, 847, 305, 3639, 4135, 4838, 4608, 2349, 1886, 3156, 1340, 1253],\n",
       " [2251, 3488, 1668, 3156, 1340, 1253],\n",
       " [2655, 378, 3833, 4540, 1474, 2120, 227, 3156, 1340, 1253],\n",
       " [4820, 4703, 847, 305, 581, 667, 4556, 4820, 3156, 1340, 1253],\n",
       " [3952, 4390, 737, 343, 1189, 1902, 2721, 4498],\n",
       " [4750, 2611, 2115, 274, 359, 2221, 3852, 4739, 2290, 2114],\n",
       " [669, 1701, 3120, 3934, 1413, 1807, 792, 3260, 4379, 3156, 1340, 1253],\n",
       " [2283, 305, 4599, 3625, 4542, 1687, 2324],\n",
       " [3954, 4580, 2420, 2655, 4010, 4967, 4686, 668, 3495, 3883],\n",
       " [300, 908, 4542, 3068, 4075, 2978, 1796, 128],\n",
       " [305, 924, 349, 924, 3156, 2394, 718],\n",
       " [4584, 4492, 4590, 2776, 4692, 802, 2027],\n",
       " [3870, 2658, 1679, 4441, 1998, 3156, 1340, 1253],\n",
       " [3156, 1340, 408, 1059, 4874, 3625, 2423, 3156, 1340, 1253],\n",
       " [1791, 3484, 3272, 874, 3156, 1340, 1253],\n",
       " [3762, 1314, 1041, 1625, 2728, 3639, 2007, 305, 4876, 4721, 2114],\n",
       " [4289, 722, 1887, 2941, 1171, 2127, 4240],\n",
       " [574, 2120, 3984, 114, 828, 2671, 3156, 1340, 1253],\n",
       " [2200, 1389, 2100, 1709, 1792, 691, 1034, 3156, 1340, 1253],\n",
       " [4137, 847, 3168, 527, 4114, 871],\n",
       " [1031, 2247, 4758, 3425],\n",
       " [305, 2467, 3156, 3669, 890, 109, 3609, 4379, 3312, 3156, 1340, 1253],\n",
       " [3716, 3312, 4704, 4556, 4282, 3975, 3497, 3156, 1340, 1253],\n",
       " [815, 4410, 4139, 4470, 722, 308, 3156, 1340, 1253],\n",
       " [128, 3854, 516],\n",
       " [920, 427, 818, 273],\n",
       " [1543, 4364, 2067, 1245, 305, 1064, 1776, 3147, 2947, 2114],\n",
       " [669, 3250, 4217, 3833, 1644, 4026, 462],\n",
       " [462, 3571, 150, 3697, 1020, 2831, 3690, 819, 397, 967, 2114],\n",
       " [1443, 4674, 3120, 4433, 96, 31, 2290, 3156, 1340, 1253],\n",
       " [4862, 274, 467, 670, 165, 643, 3156, 1340, 1253],\n",
       " [2686, 2649, 2829, 1942, 3501, 4613, 305, 2933, 3086, 3156, 1340, 1253],\n",
       " [1189, 4597, 3723, 3934, 838, 429, 3735, 2758, 4610],\n",
       " [4066, 1043, 4239, 1546, 3156, 1340, 1253],\n",
       " [720, 2741, 1116, 3852],\n",
       " [4230, 3339, 2435, 3929, 1748, 2596, 774, 1679, 462],\n",
       " [1189,\n",
       "  4279,\n",
       "  1234,\n",
       "  890,\n",
       "  4394,\n",
       "  523,\n",
       "  527,\n",
       "  1067,\n",
       "  3849,\n",
       "  66,\n",
       "  1406,\n",
       "  1634,\n",
       "  499,\n",
       "  4158],\n",
       " [4510, 2353, 4739, 235, 4572, 434],\n",
       " [789, 3307, 4424, 4972, 392, 260, 4083, 4019, 2114],\n",
       " [3135, 148, 4964, 3833, 2811, 2231, 1776, 3457, 2994, 1609, 3156, 1340, 1253],\n",
       " [796, 2802, 2803, 4145, 436, 4661, 4145, 436, 2114],\n",
       " [737, 343, 3833, 2629, 377, 3985, 2764, 4845, 4765, 2114],\n",
       " [2940, 1793, 3569, 312, 574, 3156, 1340, 1253],\n",
       " [3706, 3495, 4988, 978, 218, 3168, 2461, 4988, 395, 1544, 1232, 2549],\n",
       " [1602, 3150, 3977, 3254, 597, 3765, 2370, 2960, 2114],\n",
       " [548, 4453, 1012, 1192, 2039, 3990, 2654, 2423],\n",
       " [711,\n",
       "  246,\n",
       "  4589,\n",
       "  2903,\n",
       "  4542,\n",
       "  4419,\n",
       "  2907,\n",
       "  2715,\n",
       "  1480,\n",
       "  3055,\n",
       "  1960,\n",
       "  3150,\n",
       "  392,\n",
       "  4702,\n",
       "  4158],\n",
       " [902, 17, 1792, 4378, 3305, 3413, 3808],\n",
       " [305, 1590, 2088, 2114],\n",
       " [4473, 1716, 3708, 1892, 3795, 3828, 631, 98, 3415, 2164, 3938, 1316, 4721],\n",
       " [2514, 2941, 194, 4283, 2447, 3912],\n",
       " [1100, 1055, 777, 3156, 1340, 1253],\n",
       " [3156, 628, 885, 1623, 1697, 3870, 3305, 2999, 4052, 2123, 3156, 1340, 1253],\n",
       " [201, 766, 274, 1081, 4245, 3156, 209],\n",
       " [1441, 3342, 2251, 4114, 2460, 1636, 2007, 3156, 1340, 1253],\n",
       " [3349, 2916, 560, 3254, 1237, 305, 734, 2158, 2994, 447],\n",
       " [2923, 3962, 1043, 2482, 4780, 2941, 973, 131, 1452, 3156, 1340, 1253],\n",
       " [670, 3464, 3861, 1661, 4145, 2839, 3156, 1340, 1253],\n",
       " [3521,\n",
       "  2847,\n",
       "  1233,\n",
       "  2019,\n",
       "  4371,\n",
       "  421,\n",
       "  2532,\n",
       "  3070,\n",
       "  1714,\n",
       "  471,\n",
       "  4827,\n",
       "  2424,\n",
       "  462,\n",
       "  828,\n",
       "  1204],\n",
       " [3948, 2436, 1002, 714, 1041, 4597, 3771, 4603, 312, 1639],\n",
       " [2983, 1929, 2009, 3543, 4464, 1699, 4843, 1603, 2114],\n",
       " [128, 4542, 1319, 3989],\n",
       " [3261, 2482, 4119, 305, 2697, 2960, 3748, 4710, 3625, 3513, 1333],\n",
       " [1867, 4124, 1237, 305, 4386, 3474, 3349, 4824, 807, 1647],\n",
       " [4088, 2507, 4554, 1001, 1814, 3156, 1340, 1253],\n",
       " [4369, 4572, 2933, 4458, 3272, 4029, 387, 3037, 2902],\n",
       " [984, 526, 1039, 1952, 2312, 751],\n",
       " [2045, 4255, 3450, 663, 3105, 3156, 1340, 1253],\n",
       " [4167, 4497, 2319, 4739, 201, 4739, 995, 3156, 1340, 1253],\n",
       " [2073, 3101, 2466, 2794, 1990, 4257, 4042],\n",
       " [4540, 649, 1237, 3969, 723, 3269, 3921, 3899, 1237, 434, 1048, 3621],\n",
       " [915, 2537, 3106, 2578, 3277, 2687, 2792, 3945, 1902, 3156, 1340, 1253],\n",
       " [2184, 4742, 2556, 1703, 4311],\n",
       " [2037, 4583, 4220, 4671, 352, 2349, 1246, 1886, 3156, 1340, 1253],\n",
       " [2106, 1617, 3018, 2192, 4786, 2309, 1096, 3112, 1198],\n",
       " [4540, 2933, 4961, 3688, 1846, 2044],\n",
       " [5, 2240, 4426, 2762, 79],\n",
       " [1716, 3137, 847, 305, 3156, 1340, 1253],\n",
       " [2190, 4176, 4940, 1940],\n",
       " [2269, 1890, 1660, 297, 4221, 4584, 1229, 113, 3500, 3472, 4925, 3357],\n",
       " [1471, 3579, 4727],\n",
       " [3220, 3743, 691, 3934, 1189, 592, 2482, 670],\n",
       " [2609, 128, 1190, 128, 3815, 305, 3406],\n",
       " [1360, 675, 2212, 333, 1645, 2802, 4273, 3269, 2024, 3518, 4921, 337],\n",
       " [4714, 539, 1491, 4908],\n",
       " [2802, 669, 2791, 4449, 4225, 852, 2303, 2673, 3499, 2133, 2114],\n",
       " [1634, 4170, 3523, 4241, 4659, 251],\n",
       " [669,\n",
       "  1189,\n",
       "  3445,\n",
       "  2941,\n",
       "  4031,\n",
       "  2754,\n",
       "  4068,\n",
       "  1189,\n",
       "  3417,\n",
       "  3055,\n",
       "  4369,\n",
       "  3272,\n",
       "  1498,\n",
       "  4095,\n",
       "  2114],\n",
       " [305, 844, 2402, 4328, 3011, 193, 601, 3060],\n",
       " [4261, 2383, 3173, 3625, 3715, 3312, 3156, 1340, 1253],\n",
       " [305, 3769, 1189, 1382, 471, 295, 3654, 2114],\n",
       " [433, 4158, 2974, 4759, 304, 462],\n",
       " [4997, 3164, 2955, 842, 1826, 787, 1452, 3156, 1340, 1253],\n",
       " [2559, 2507, 2480, 637, 2410, 871],\n",
       " [343, 4087, 589, 838, 2999, 305, 31, 2999, 2754, 3156, 1340, 1253],\n",
       " [791, 4540, 4661, 4032, 3729, 3789, 3057, 4817, 264, 2943],\n",
       " [109, 3318, 2114, 4158, 376, 2947, 3870, 505, 2114],\n",
       " [305, 2556, 27, 2923, 1673, 4493, 4689, 276, 4561, 2114],\n",
       " [1579, 4305, 3056, 2902, 4447, 3940, 4173, 4354, 4188, 3156, 1340, 1253],\n",
       " [3156, 1340, 1581, 303, 2156, 1491, 1421, 2108, 1491, 2415, 2114],\n",
       " [4139, 1600, 1452, 79, 4620, 4865, 1060, 3156, 1340, 1253],\n",
       " [1310, 3817, 3526, 4833, 4158, 1928, 433, 737],\n",
       " [913, 1392, 1215, 2082, 1645, 751],\n",
       " [1545, 4492, 1031, 4743, 116, 406, 408, 897, 3156, 1340, 1253],\n",
       " [198, 2811, 4890, 1671, 3021, 601, 2698, 737, 4098, 754],\n",
       " [2474, 4145, 2485, 282, 4386, 3708, 4540, 1315, 2482, 2171, 4961, 4760],\n",
       " [2279, 2040, 4492, 3542, 4627],\n",
       " [1189, 1382, 3088, 4388, 3156, 1340, 1253],\n",
       " [4311, 2733, 1648, 542, 789, 3748, 634, 3146, 4051, 3156, 1340, 1253],\n",
       " [3975, 2933, 203, 3029, 3288, 2077, 780, 4990, 4739, 3571, 1524, 2114],\n",
       " [3641, 4158, 128, 514, 4075, 2507, 3014, 3018],\n",
       " [3298, 2370, 4905, 1949, 2941, 905, 527],\n",
       " [2790, 3214, 3592, 4787, 3422, 2089, 2545, 3521, 4473, 1086],\n",
       " [500, 4247, 2607, 3957, 1915, 128, 4542],\n",
       " [341, 3067, 1692, 4713, 3451, 766, 404, 305, 1398, 3938, 1316],\n",
       " [1669, 4492, 894, 3850, 2750, 1180, 2162, 308, 3156, 1340, 1253],\n",
       " [2120, 3984, 2907, 3121, 3677, 1117, 795, 4540, 2043, 3156, 1340, 1253],\n",
       " [2089, 2194, 390, 3194, 4623, 1774, 377, 3232],\n",
       " [3073, 1664, 194, 550, 302, 1887, 3143],\n",
       " [209, 3817, 3526, 2802, 3748, 4440, 4834, 3406, 1506],\n",
       " [4993, 1237, 305, 4386],\n",
       " [1329, 119, 778, 3504, 467, 302, 3168, 1446, 2114],\n",
       " [4725, 4927, 2792, 1765, 885, 3000, 1595],\n",
       " [305, 4978, 1498, 1050, 1937, 843, 2033, 3156, 1340, 1253],\n",
       " [480, 4024, 242, 3609, 2219, 4542, 735, 101, 462],\n",
       " [1814,\n",
       "  3952,\n",
       "  212,\n",
       "  2490,\n",
       "  3305,\n",
       "  669,\n",
       "  4070,\n",
       "  4218,\n",
       "  4925,\n",
       "  274,\n",
       "  2993,\n",
       "  1144,\n",
       "  3156,\n",
       "  1340,\n",
       "  1253],\n",
       " [2744, 4873, 4492, 940, 1781, 1829, 1228],\n",
       " [1547, 394, 305, 1899, 457, 4823],\n",
       " [815, 1539, 1035, 3080, 3156, 2902, 372, 4542, 2067],\n",
       " [847, 305, 2568, 500, 392, 815, 1238, 2933, 3073, 1609, 2129, 194],\n",
       " [140, 2723, 1333, 3156, 1340, 1253],\n",
       " [1319, 3393, 1168],\n",
       " [1110, 3795, 3311, 4158, 3121, 1735, 1420, 3156, 1340, 1253],\n",
       " [457, 2084, 2836, 3254, 3508, 305, 4907, 3048, 167],\n",
       " [2559, 698, 240, 212, 885, 1880, 2240, 4861, 1728, 3610, 2114],\n",
       " [1605, 3450, 3451, 4721, 3602, 2114],\n",
       " [4968,\n",
       "  4029,\n",
       "  2556,\n",
       "  4741,\n",
       "  2251,\n",
       "  2884,\n",
       "  3801,\n",
       "  4594,\n",
       "  4492,\n",
       "  4572,\n",
       "  2833,\n",
       "  1700,\n",
       "  3723,\n",
       "  3971,\n",
       "  2993],\n",
       " [4492, 4572, 1126, 1897, 1480],\n",
       " [847, 305, 4599, 1970, 1538, 266, 2067, 128, 4542, 1353],\n",
       " [2686, 1582, 4542, 1259, 815, 527, 2582, 2941, 91, 941],\n",
       " [462, 3955, 1318, 2134, 3156, 1340, 1253],\n",
       " [2019, 4371, 305, 3493, 2349, 1246, 1886, 3156, 1340, 1253],\n",
       " [3122, 4852, 3951, 2418, 4626, 1271, 2241, 3156, 1340, 1253],\n",
       " [4514, 2338, 3723, 3971, 845, 2370, 4636, 1100, 3156, 1340, 1253],\n",
       " [301, 1150, 984, 264],\n",
       " [4369, 3397, 670, 3748, 1796, 4992, 4217, 946, 1426],\n",
       " [182,\n",
       "  1158,\n",
       "  4070,\n",
       "  1532,\n",
       "  3185,\n",
       "  4900,\n",
       "  888,\n",
       "  851,\n",
       "  4879,\n",
       "  4067,\n",
       "  4070,\n",
       "  117,\n",
       "  797,\n",
       "  2973,\n",
       "  1567,\n",
       "  2744,\n",
       "  3925,\n",
       "  3346,\n",
       "  3310],\n",
       " [305, 4492, 243, 1136],\n",
       " [999, 3933, 25, 4279],\n",
       " [4584, 212, 2037, 1698, 1237, 2541, 3329, 2114],\n",
       " [2456, 3261, 2482, 4376, 305, 2960, 2235, 1826, 3395, 305, 4354, 3062],\n",
       " [4542, 3311, 2846, 1771, 1974, 4489, 4283, 1425],\n",
       " [305, 2573, 2395, 4293, 165, 4627, 1043, 471, 2114],\n",
       " [1117, 235, 3803, 3311, 4591, 3052, 2382, 53, 2395],\n",
       " [3201, 3748, 1124, 3746, 4319, 4009],\n",
       " [414, 4114, 4762, 1793, 305, 1178, 2981, 697, 63],\n",
       " [913, 2873, 2008, 1505, 242, 2269, 3156, 1340, 1253],\n",
       " [4070, 4086, 920, 2790, 4542],\n",
       " [127, 2107, 4048, 1428, 3292, 3080, 1342, 3120],\n",
       " [457, 1270, 4169, 2603, 1706, 2977, 804, 3456, 1431, 1788],\n",
       " [2803, 2888, 3513, 1555, 871, 1511, 2960, 3295, 3352, 1639],\n",
       " [4701, 128, 2948, 4221, 1538, 1699, 2686, 128],\n",
       " [311, 1034, 1806, 2862, 2658, 3156, 1340, 1253],\n",
       " [3113, 1722, 128, 4542, 3595, 928, 527],\n",
       " [2120, 2570, 4324, 3361, 2582, 2344, 1765, 4616, 3156, 1340, 1253],\n",
       " [3810, 2769, 2001, 1189, 592, 678, 4624, 4128, 3966, 3495, 2114],\n",
       " [4369, 1054, 1736, 4880, 889, 1108, 3929, 3677, 3216, 4949, 434],\n",
       " [],\n",
       " [4540, 4739, 2170, 557, 2210, 1905, 4647, 870, 1174],\n",
       " [2588, 1687, 2738],\n",
       " [194, 857, 4928, 305, 3325, 2556, 96, 1237, 1542, 462, 3508, 3143, 3394],\n",
       " [1716, 1837, 4019, 761, 2171, 4414, 2114],\n",
       " [4884, 2458, 317, 312, 237, 3013, 1792, 854],\n",
       " [128, 4542, 3409, 1311, 4396, 3057, 792],\n",
       " [3156, 4176, 3514, 4492, 3106, 3053, 1232],\n",
       " [201, 1248, 1736, 2941, 4822, 4580, 140, 4495, 2584, 2744],\n",
       " [1262, 221, 3156, 1140, 3538, 847, 305, 1171, 3686, 3168, 2114],\n",
       " [4968, 3770, 3854, 3339, 1679, 3156, 4584, 2978, 1471, 4019, 4019, 1399],\n",
       " [2210, 915, 2307, 1105, 1728, 3751, 2383, 3156, 1340, 1253],\n",
       " [4695, 3074, 246, 2556, 2261, 1237, 4833, 4158, 3384, 321, 4790, 2114],\n",
       " [2689, 4635, 4890, 2418],\n",
       " [1927, 3490, 2556, 373, 3035, 91, 941],\n",
       " [847, 305, 554, 3471, 2162, 653, 4341, 3156, 1340, 1253],\n",
       " [3609, 2700, 2507, 2490, 4614, 273, 1924, 1986, 2234, 3156, 1340, 1253],\n",
       " [548, 4453, 1012, 2741, 260, 4444, 3746, 1699, 1927, 3156, 1340, 1253],\n",
       " [682, 4076, 2137, 4497, 2416, 305, 1634, 3156, 1340, 1253],\n",
       " [3864, 2279, 2341, 2944, 3156, 1340, 1253],\n",
       " [1111, 1140, 2996, 467, 3122, 414],\n",
       " [2917, 45, 180, 1215, 1854, 4480, 1479, 2192, 874, 4971],\n",
       " [4492, 4572, 128, 4542, 4419, 4499, 743, 64, 2458, 3969, 663, 4681],\n",
       " [2790, 616, 4098, 714, 1625, 4410, 2370, 4098],\n",
       " [1617, 1669, 2006, 1323, 207, 3082],\n",
       " [4432, 1053, 1470, 4832, 2790, 611, 3084],\n",
       " [2495, 76, 1214, 566, 3795, 2978, 2497, 1477, 3156, 1340, 1253],\n",
       " [4514, 3494, 2902, 847, 305, 2367, 1886, 3156, 1340, 1253],\n",
       " [3600, 4909, 674, 2919, 2907, 4492],\n",
       " [2987, 2184, 2195, 3639, 4556, 2114],\n",
       " [4805, 663, 2472, 1497, 2449, 2900, 4652, 4612, 2689, 485],\n",
       " [928, 1156, 2472, 1395, 798, 2738, 3653, 3156, 1340, 1253],\n",
       " [847, 305, 1398, 4014, 4206, 3406, 2905, 3156, 1340, 1253],\n",
       " [1189, 3240, 4739, 3062, 4857, 878, 305, 1653],\n",
       " [4492, 1386, 754, 1977],\n",
       " [1698, 1491, 1426, 23, 305, 642, 308, 527, 2158],\n",
       " [1189, 2289, 3705, 4388, 16, 4145, 1164, 2114],\n",
       " [1728, 161, 3497, 1237, 305, 4834, 2189, 3406, 2559],\n",
       " [3393, 3347, 273, 4572, 319, 273, 3921, 3156, 1340, 1253],\n",
       " [1311, 4159, 4225, 3604, 1535, 1123, 3156, 1340, 1253],\n",
       " [651,\n",
       "  2960,\n",
       "  126,\n",
       "  890,\n",
       "  1227,\n",
       "  2568,\n",
       "  3621,\n",
       "  1445,\n",
       "  2158,\n",
       "  3936,\n",
       "  2590,\n",
       "  1876,\n",
       "  1741,\n",
       "  601,\n",
       "  2114],\n",
       " [4968, 640, 4542, 4158, 3171, 373, 4124, 4833, 4158, 4177, 2998],\n",
       " [1189, 2306, 998, 3108, 890, 4542, 4419, 523],\n",
       " [3397, 1523, 2147, 1247, 305, 2556, 2933],\n",
       " [862, 3365, 180, 2612, 3244, 816, 1776, 2785],\n",
       " [2398, 316, 308, 711, 994, 76, 2108, 3670, 2472, 1284, 1237, 3301, 3508],\n",
       " [3723, 1077, 4083, 3162, 3054, 4020],\n",
       " [4399, 2253, 4114, 589, 3156, 1340, 1253],\n",
       " [1380, 1491, 988, 3156, 1340, 3553, 589, 4236, 3156, 1340, 1253],\n",
       " [3305, 3889, 1439, 1851, 1486],\n",
       " [4896, 2556, 3929, 847, 305, 4718, 4506, 2888, 4487, 462],\n",
       " [1453,\n",
       "  3077,\n",
       "  2942,\n",
       "  4059,\n",
       "  1667,\n",
       "  1050,\n",
       "  2941,\n",
       "  3415,\n",
       "  3224,\n",
       "  4186,\n",
       "  837,\n",
       "  4355,\n",
       "  3156,\n",
       "  1340,\n",
       "  1253],\n",
       " [737, 343, 3938, 1952, 4739, 1924, 1140, 4478, 4721, 2283, 2114],\n",
       " [188, 4621, 3305, 746, 2997, 1638, 3186, 3443, 3156, 1340, 1253],\n",
       " [1979, 3381, 3629, 4483, 1644, 919, 305, 376],\n",
       " [305, 2807, 862, 4431, 528, 4890, 4986, 3298, 4283, 3156, 1340, 1253],\n",
       " [3156, 4492, 890, 2387, 3683, 2477],\n",
       " [1259, 1211, 4100, 305, 534, 838, 523, 3156, 1340, 1253],\n",
       " [4739, 1005, 1211, 998, 3531, 4873, 2041, 3298, 3156, 1340, 1253],\n",
       " [847, 305, 4597, 1908, 4572, 1428, 550, 3288, 500, 3156, 1340, 1253],\n",
       " [1319, 4625, 1578, 2950, 217],\n",
       " [4756, 4776, 3156, 1340, 1253],\n",
       " [3138, 1991, 2461, 2738, 1668, 3716, 1310, 4775, 2626, 1319, 4285],\n",
       " [378, 311, 2673, 436, 845, 4686, 3156, 1340, 1253],\n",
       " [3828, 4852, 4498, 340, 916, 4727, 2762, 3156, 1340, 1253],\n",
       " [1024,\n",
       "  4498,\n",
       "  2116,\n",
       "  3386,\n",
       "  1187,\n",
       "  1699,\n",
       "  3346,\n",
       "  182,\n",
       "  3762,\n",
       "  46,\n",
       "  1532,\n",
       "  182,\n",
       "  1776,\n",
       "  1532,\n",
       "  2557,\n",
       "  3762,\n",
       "  164,\n",
       "  2742,\n",
       "  462],\n",
       " [4572, 616],\n",
       " [1699, 2763, 1466, 3291, 527],\n",
       " [3008, 2122, 1267, 4556, 672, 105, 3156, 1340, 1253],\n",
       " [1618, 2875, 4554, 847, 305, 4756, 1796, 2285, 2358, 1144, 2345],\n",
       " [3585, 4344, 2150, 702, 997, 743, 3650, 1184],\n",
       " [2933, 86, 1923, 720, 2269, 1223, 76, 2886, 2338, 1865, 905, 2341, 2114],\n",
       " [480, 3576, 3810, 116, 2171, 1720, 835, 3156, 1340, 1253],\n",
       " [3106, 4848, 1043, 118, 3416, 2383, 4238, 2581],\n",
       " [2121, 1208, 2184, 4560, 533, 2114],\n",
       " [128, 2204, 2166],\n",
       " [1167, 3761, 2148, 4713, 1706, 4218, 1452, 3156, 1340, 1253],\n",
       " [1850, 4202, 2283, 4167, 3723, 1592, 3731, 711, 4359],\n",
       " [847, 305, 2426, 4695, 1516, 29, 1246, 1886, 3156, 1340, 1253],\n",
       " [847, 305, 4495, 3406, 4498, 242, 3495, 2006],\n",
       " [4458, 4961, 34, 1413, 4909, 1475, 2635, 4167, 4188, 1638, 4556, 3526, 2041],\n",
       " [791, 2851, 1323, 1582, 305, 1728, 3517],\n",
       " [2410, 1207, 2955, 3693, 4434, 3542, 560, 341, 462],\n",
       " [4115, 4176, 4194, 4846, 871, 3156, 1340, 1253],\n",
       " [4739, 2976, 1283, 3134, 3156, 1340, 1253],\n",
       " [4968,\n",
       "  847,\n",
       "  305,\n",
       "  4033,\n",
       "  2415,\n",
       "  4802,\n",
       "  1446,\n",
       "  1043,\n",
       "  471,\n",
       "  1182,\n",
       "  305,\n",
       "  3127,\n",
       "  4038,\n",
       "  3808,\n",
       "  3893],\n",
       " [2862, 3690, 114, 321, 3715, 1818, 1168, 2387, 3156, 1340, 1253],\n",
       " [4005, 3380, 4542, 1761, 2743, 1869, 471, 527],\n",
       " [2073, 1845, 1483, 4447, 79, 2581, 1897],\n",
       " [147, 527, 4739, 4751, 2629, 3120, 2233, 3055],\n",
       " [239, 1152, 343, 1319, 3931, 4267, 2166, 2397],\n",
       " [4345, 4771, 2472, 4112, 4920, 4473, 62, 3305, 3156, 1340, 1253],\n",
       " [4739, 1124, 2622, 799, 4122],\n",
       " [2987, 126, 1735, 86, 3156, 1340, 1253],\n",
       " [473, 2691, 4949, 4805, 2370, 2692, 1150, 999, 1985],\n",
       " [4739, 259, 79, 2162, 4352, 4794, 3521, 166, 1233],\n",
       " [3938, 4542, 523, 4263, 3742],\n",
       " [4460, 1206, 1455, 4515, 1311, 3156, 1340, 1253],\n",
       " [2720, 2244, 1649, 2220, 4612, 3156, 1340, 1253],\n",
       " [3496, 3843, 1639, 1695, 1353, 3156, 1340, 1253],\n",
       " [308, 810, 1232, 4303, 3156, 305, 2279, 3156, 1340, 1253],\n",
       " [198, 2811, 1041, 404, 4833, 1717, 2290, 2529],\n",
       " [847, 305, 2145, 112, 3312, 4225, 3723, 2415],\n",
       " [2337, 815, 3716, 4075, 1043, 1668, 329, 4487],\n",
       " [1800, 2114, 2009, 1492, 2545, 720, 4768, 2884, 1924, 999, 1116, 2114],\n",
       " [4787, 4458, 2879, 1477, 4050, 206, 3298, 566],\n",
       " [3494, 1302, 4909, 1475, 4236, 1886, 3156, 1340, 1253],\n",
       " [2598, 3932, 131, 3305, 2851, 1092, 260, 3156, 1340, 1253],\n",
       " [951, 1287, 3190, 2212, 3156, 1340, 1253],\n",
       " [1136],\n",
       " [1547, 1878, 305, 2935, 3481, 1495, 2289, 2926, 4959],\n",
       " [2979, 4173, 3361, 2394, 1302, 2726, 3120, 3156, 1340, 1253],\n",
       " [305, 2171, 1358, 260, 2978, 3690, 4296],\n",
       " [4509, 1781, 3202, 4188, 3804, 2994, 2305, 2114],\n",
       " [1617, 4541, 1625, 3944, 4487, 1776, 3833, 2511, 1116],\n",
       " [2333, 3294, 1912, 4332, 2289, 2797, 1902, 2811, 1354, 4547, 2114, 2114],\n",
       " [1031, 4383, 4432, 2688, 1495, 3352, 3156, 1340, 1253],\n",
       " [1319, 156, 4228, 3938, 1319, 2762, 1722, 4696],\n",
       " [4492, 4572, 4281, 1483, 1897, 975, 1299],\n",
       " [4458, 4715, 3637, 1483, 548, 4453, 1012, 4539, 3648],\n",
       " [4762, 4396, 2566, 4621, 698],\n",
       " [4871, 4545, 2269, 2447, 2941, 2950, 217],\n",
       " [3715, 3937, 3968, 3954, 3495, 4837, 194, 1319, 1549, 3074],\n",
       " [2158, 3254, 3220, 496, 3238, 3621, 2370, 3127, 1003, 2883, 2541, 2611, 2114],\n",
       " [3073, 1753, 1218, 256, 1581, 259, 231, 3156, 1340, 1253],\n",
       " [2537, 8, 3554, 2978, 680, 4610, 305, 2171, 2114],\n",
       " [305, 3479, 815, 1604, 2338, 3108, 3156, 1340, 1253],\n",
       " [4825, 1031, 458, 3415, 2100, 933, 2114],\n",
       " [1542, 1124, 1009, 1543, 4467, 2084, 3504, 3156, 1340, 1253],\n",
       " [2887, 1932, 3588, 1697, 833, 1928, 1390],\n",
       " [457, 4029, 3524, 2744, 3640, 4273, 1669, 3156, 1340, 1253],\n",
       " [305, 3993, 1403, 2328, 218, 2349, 1215],\n",
       " [2647, 1491, 341, 1845, 497, 3940, 34],\n",
       " [3684, 918, 2148, 4620, 423, 1727, 1949, 1106, 1452, 3156, 1340, 1253],\n",
       " [2682, 4459, 3878, 3993, 2870, 3683, 1260, 305, 3454],\n",
       " [305, 4760, 3987, 2738, 4666, 2597, 549, 2247],\n",
       " [48, 4434, 4582, 3391, 3409, 2610, 2559, 3954, 3931, 1013, 2114],\n",
       " [2559, 4292, 1569, 4665, 4862, 3418, 2999, 3649, 3357, 308, 2114],\n",
       " [3060, 4235, 1841, 3392, 1918, 3156, 1340, 1253],\n",
       " [76, 1485, 3072, 3056, 3801, 2303, 2958],\n",
       " [2671, 4940, 901, 2192, 2248, 739, 4253, 3156, 1340, 1253],\n",
       " [3305, 2749, 3797, 558, 3068, 4253, 551, 3156, 1340, 1253],\n",
       " [3298, 2158, 3805, 2248, 3156, 1340, 1253],\n",
       " [2573, 1398, 2887, 1484, 3417, 2162, 4102, 604, 527],\n",
       " [1361, 4415, 305, 815, 3250, 3186, 1647, 3612],\n",
       " [305, 4838, 534, 2999, 3857, 2767, 2315, 3156, 1340, 1253],\n",
       " [4789, 3947, 2652, 3860, 166, 1730, 4070, 3762, 4721, 2556, 3156, 1340, 1253],\n",
       " [3761, 4567, 882, 3617, 2377, 4563, 3400, 789, 3156, 1340, 1253],\n",
       " [51, 1101, 1705, 273, 4739, 4243],\n",
       " [266, 381, 1927, 331, 3854, 2556, 3080, 305, 3156, 1340, 1253],\n",
       " [2367, 48, 3276, 3250, 3760, 1065],\n",
       " [194, 4370, 3780, 4513, 482, 2509, 566, 3301, 3156, 1340, 1253],\n",
       " [4029, 4966, 4255, 4871, 3156, 1340, 1253],\n",
       " [4114, 2053, 1638, 257, 4258, 3138, 4658, 3156, 1340, 1253],\n",
       " [2, 2234, 971, 815, 3566, 4492],\n",
       " [3934, 3344, 1860, 2455, 3648, 1638, 527, 3156, 1340, 1253],\n",
       " [1587, 1446, 4487, 858, 114, 1484, 4324],\n",
       " [3541, 863, 3210, 607, 2979, 4599, 4466, 4746, 3156, 1340, 1253],\n",
       " [3940, 4677, 3207, 2277, 45, 3156, 1340, 1253],\n",
       " [2832,\n",
       "  3003,\n",
       "  3748,\n",
       "  3298,\n",
       "  1101,\n",
       "  4218,\n",
       "  1570,\n",
       "  2099,\n",
       "  2112,\n",
       "  3529,\n",
       "  3156,\n",
       "  1340,\n",
       "  1253],\n",
       " [4862, 1439, 1126, 4739, 2552],\n",
       " [1734, 3604, 4824, 4988, 4352, 1367, 3780],\n",
       " [1956, 4866, 4721, 4599, 2347, 1955, 305, 2114],\n",
       " [2037, 3381, 4502, 4597, 1625, 527, 3317, 3688, 1480, 4185],\n",
       " [4862, 90, 1152, 1642, 305, 357, 913, 141, 3156, 1340, 1253],\n",
       " [128, 260, 766, 915, 2722, 3777, 3349, 4826, 3163, 290, 305, 844],\n",
       " [4584, 351, 3693, 165, 305, 3495, 1043, 3542, 737, 3495, 1043, 2114],\n",
       " [305, 2989, 4132, 4087, 3779, 1741, 601, 3156, 1340, 1253],\n",
       " [1349, 2640, 2309, 135],\n",
       " [305, 717, 2413, 2114],\n",
       " [4349, 404, 3570, 3495, 3886],\n",
       " [2559, 3756, 4279, 1582, 3400, 3120, 1652, 305, 734, 1292, 2114],\n",
       " [2467, 3727, 305, 2265, 3080, 1049, 990, 3250, 815, 2114],\n",
       " [253, 3677, 4591, 3563, 292, 1164, 3924],\n",
       " [218, 3762, 3150, 2556, 1189, 4591, 680, 1665, 1126, 10],\n",
       " [3934, 1189, 2545, 1208, 2247, 3936, 4920, 3184, 462],\n",
       " [3342, 1319, 1077, 3141, 2941, 1243, 2773, 1483, 2810, 4979, 4542],\n",
       " [1756, 2941, 248, 2411, 2931, 1977, 3739, 2169, 4174, 172, 1722, 2245],\n",
       " [815, 537, 322, 2941, 4447, 697, 1319, 775],\n",
       " [1264, 4597, 1043, 1728, 1043, 2900, 149, 3789, 3156, 1340, 1253],\n",
       " [4540, 566, 2076, 2655, 3413, 4172],\n",
       " [2931, 4202, 2866, 2570, 4100, 4285],\n",
       " [127, 4048, 2250, 3467, 2114],\n",
       " [2114, 3425, 737, 343, 4248, 471, 4290, 1051, 2114],\n",
       " [4077, 892, 4631, 4984, 2365, 853, 1570, 348],\n",
       " [2158, 4657, 4652, 607, 4940, 2166, 2114],\n",
       " [4070, 3762, 1761, 1801, 4677, 4789, 2757, 3309, 4995, 3156, 1340, 1253],\n",
       " [4418,\n",
       "  4484,\n",
       "  2568,\n",
       "  666,\n",
       "  2007,\n",
       "  1023,\n",
       "  1426,\n",
       "  734,\n",
       "  3597,\n",
       "  4070,\n",
       "  886,\n",
       "  2007,\n",
       "  2886,\n",
       "  2114],\n",
       " [4279, 1818, 3654, 3156, 1340, 1253],\n",
       " [4833,\n",
       "  4158,\n",
       "  213,\n",
       "  4928,\n",
       "  305,\n",
       "  2556,\n",
       "  4762,\n",
       "  268,\n",
       "  305,\n",
       "  1064,\n",
       "  1855,\n",
       "  4146,\n",
       "  4566,\n",
       "  4625],\n",
       " [4296, 1350, 2611, 1202, 2927, 1426, 3156, 1340, 1253],\n",
       " [1189, 946, 478, 394, 3642, 4355, 3156, 1340, 1253],\n",
       " [3810, 1034, 897, 1796, 3686, 836],\n",
       " [634, 1603, 4101, 3298, 4404],\n",
       " [3246, 2021, 2076, 1436, 2335, 3375, 2144, 248, 3156, 1340, 1253],\n",
       " [4296, 3501, 3172, 3771, 1186, 2477, 3156, 1340, 1253],\n",
       " [4070, 4023, 4925, 2556, 2317, 203, 2959, 1918, 3156, 1340, 1253],\n",
       " [2251, 2007, 2002, 4596, 1380],\n",
       " [2900, 2779, 267, 1254, 3325, 2127, 2557, 324, 3156, 1340, 1253],\n",
       " [1590, 1793, 4750, 1774, 2698, 847, 305, 1970, 1281, 128, 4542, 3127],\n",
       " [305, 217, 1077, 4962, 1768],\n",
       " [4760, 4379, 590, 518, 4510, 4957, 2383, 1888, 3365, 3156, 1340, 1253],\n",
       " [1761, 3823, 4000, 667, 3545, 1692, 4038, 3741, 343],\n",
       " [3254, 904, 2184, 1023, 2105, 79, 3798, 305, 2067],\n",
       " [1273,\n",
       "  3406,\n",
       "  3650,\n",
       "  3990,\n",
       "  2043,\n",
       "  4317,\n",
       "  3571,\n",
       "  3489,\n",
       "  1124,\n",
       "  773,\n",
       "  90,\n",
       "  3042,\n",
       "  4061,\n",
       "  3571,\n",
       "  3700],\n",
       " [2873, 4976, 887, 4067, 1893, 509, 1043, 3521, 2691, 1832, 4492, 4572],\n",
       " [847, 305, 249, 3742, 73, 2088, 3133, 3156, 1340, 1253],\n",
       " [589, 2043, 305, 3687, 315, 1653, 1693, 3156, 1340, 1253],\n",
       " [2386, 1262, 4286, 1039, 4217, 1067, 3156, 1340, 1253],\n",
       " [471, 2974, 1307, 4612, 2215, 2875, 4657, 140],\n",
       " [2843, 397, 2556, 1014, 4473, 2588, 3042, 76, 188, 666, 3613],\n",
       " [2370, 2115, 4098, 340, 872, 2114],\n",
       " [3156, 3623, 4540, 836, 3772, 1807, 227, 1007, 3156, 1340, 1253],\n",
       " [4664, 845, 3823, 3723, 2993, 3493, 376, 3366, 3156, 1340, 1253],\n",
       " [1114, 3696, 2309, 2360, 4879, 1319, 4703, 3495, 1237, 305, 4244],\n",
       " [2656, 4657, 3901, 1035, 4326, 118, 1727, 3156, 1340, 1253],\n",
       " [3983, 4114, 4592, 1687, 625, 2231, 2114],\n",
       " [2120, 4540, 372, 1720, 3540, 1330, 211, 3156, 1340, 1253],\n",
       " [1805, 3712, 724, 273, 3156, 1340, 1253],\n",
       " [3156, 1131, 4108, 2401, 1665, 1929, 2234],\n",
       " [2184, 4742, 542, 2105, 3625, 3365],\n",
       " [1562,\n",
       "  2993,\n",
       "  2220,\n",
       "  2508,\n",
       "  3062,\n",
       "  128,\n",
       "  4597,\n",
       "  1619,\n",
       "  1761,\n",
       "  2626,\n",
       "  1423,\n",
       "  3295,\n",
       "  3118,\n",
       "  1020],\n",
       " [4477, 4572, 3381, 1178, 742],\n",
       " [4587, 2171, 920, 2206, 3361, 737, 343, 1718, 3156, 1340, 1253],\n",
       " [1189, 4753, 4447, 2693, 943, 1324, 2355, 3156, 1340, 1253],\n",
       " [4042, 2238, 2464, 999, 2561, 4836],\n",
       " [4572, 3921, 4805, 1644, 2475, 4352, 3663, 92, 1699, 3878],\n",
       " [2559, 33, 379, 305, 248, 1634, 5, 1262, 999, 3312, 809, 2114],\n",
       " [3498, 3808, 3725, 3156, 1340, 1253],\n",
       " [847, 305, 1234, 890, 4715, 2187, 1286, 3686, 398, 3588, 1438, 722, 2114],\n",
       " [4453, 1012, 3563, 3588, 3276, 3929, 4907],\n",
       " [892, 3226, 1634, 3156, 4577, 3801, 847, 4739],\n",
       " [3008, 3062, 128, 2004, 1761, 3311, 1643],\n",
       " [614, 305, 1178, 1899, 4542, 4902, 3206, 2556, 215, 634, 462],\n",
       " [4974, 1168, 519, 248, 4722, 444, 2158, 3196, 3156, 1340, 1253],\n",
       " [1224, 1559, 492, 3592, 305, 1881, 4396, 2043, 3156, 1340, 1253],\n",
       " [4962, 1792, 881, 2019, 4371, 2757, 2989, 3156, 1340, 1253],\n",
       " [4258, 264, 1489, 1412, 24, 478, 3156, 1340, 1253],\n",
       " [4220, 4671, 4540, 227, 167, 3156, 1340, 1253],\n",
       " [2114, 4158, 1223, 1716, 771, 4330, 4499, 2114],\n",
       " [1111, 2990, 3296, 285, 2560, 2707, 13, 2560, 302, 3409, 2084, 2194],\n",
       " [435, 4620, 4657, 1480, 4114, 3156, 1340, 1253],\n",
       " [4879, 3575, 170, 1837, 1738, 2744, 1730, 384, 4209, 1532, 3803, 1532, 917],\n",
       " [2677, 3352, 2370, 3156, 1340, 1253],\n",
       " [4445, 1796, 572, 1634, 357, 1678, 4096],\n",
       " [4587, 1059, 780, 1617, 3965, 642, 2234, 3156, 1340, 1253],\n",
       " [1915, 436, 2511, 2163, 1404, 2184, 2289, 2797, 2114],\n",
       " [183, 175, 1257, 4199, 383, 4945, 2234, 545, 423, 1230, 301],\n",
       " [847, 305, 1634, 3934, 4694, 2790, 2346, 3778, 1479],\n",
       " [769, 1530, 4492, 1722, 3670],\n",
       " [1714, 1023, 2051, 3968, 2556, 3156, 1340, 1253],\n",
       " [4788, 4285, 1878, 4124, 2423],\n",
       " [2893, 372, 3756, 4279, 3762, 1999, 310, 3454],\n",
       " [1382, 3108, 743],\n",
       " [4392, 4450, 1043, 195, 4862, 3515, 2642, 3156, 1340, 1253],\n",
       " [1886, 1535, 2975, 3916, 1696, 1173, 4390, 3156, 1340, 1253],\n",
       " [3013, 4927, 4862, 1445, 674, 2919],\n",
       " [4492, 4572, 4696, 79, 2002],\n",
       " [786, 2057, 3268, 2566, 1758, 3642, 2435, 4973, 135, 1004, 1388],\n",
       " [2395, 3942, 546, 2158, 3611, 260, 973, 3156, 1340, 1253],\n",
       " [2236, 3913, 213, 931],\n",
       " [4694, 3931, 1885, 126, 1324, 1246, 1886, 3156, 1340, 1253],\n",
       " [305, 43, 605, 566, 4180, 1588, 3655, 3156, 1340, 1253],\n",
       " [4124, 2420, 438, 128],\n",
       " [1777, 2315, 4402, 1492, 243, 447, 272, 4818, 593, 3156, 1340, 1253],\n",
       " [3263, 4267, 2245, 1426, 648, 3147, 3156, 1340, 1253],\n",
       " [2790, 2741, 2443, 3084, 1523, 3723],\n",
       " [651, 555, 4294, 3708, 4886, 4045, 286, 4061, 1271, 2626],\n",
       " [3412, 4838, 1563, 847, 305, 3822],\n",
       " [1413, 2686, 2507, 1189, 1426, 4662, 3415, 2509],\n",
       " [2559, 4540, 2607, 4710, 791, 2611, 4218],\n",
       " [112, 3312, 2279, 2856, 2933, 1329, 3260],\n",
       " [2933, 3175, 1482, 720, 2083, 1565, 2114],\n",
       " [4303, 3563, 2792, 2944, 1728, 2538, 3156, 1340, 1253],\n",
       " [128, 4563, 2347],\n",
       " [3931, 1787, 1489, 4434, 1639, 404, 819, 3156, 1340, 1253],\n",
       " [4804, 4884, 2767, 2250, 109, 2776, 3421],\n",
       " [1309, 1960, 4116, 2235, 3106, 2834, 3156, 1340, 1253],\n",
       " [1413, 786, 4824, 2975, 743, 2965, 660, 994, 217, 4166, 3168],\n",
       " [500, 2879, 527, 491, 3613, 4802],\n",
       " [2234, 2088, 2475, 3059, 4441, 670],\n",
       " [1279, 3495, 3218, 2847, 4843, 2190, 2848, 2054, 3199, 4721, 633, 2480, 2083],\n",
       " [260, 1452, 2304, 3380, 4130, 444, 3156, 1340, 1253],\n",
       " [4812, 3536, 4788, 696, 2211],\n",
       " [4660, 4153, 1901, 525, 257, 1923, 3050, 2374, 3954, 2970, 3156, 1340, 1253],\n",
       " [3690, 4119, 1758, 4366, 4196, 146, 3381, 2511, 999],\n",
       " [4607, 3484, 2212, 584, 3037, 1960, 3443, 193, 2114],\n",
       " [2399, 2370, 1552, 1603, 1927, 3156, 1340, 1253],\n",
       " [1668, 775, 847, 305, 601, 218, 3418, 3156, 1340, 1253],\n",
       " [915, 3177, 305, 4547, 3495],\n",
       " [1271, 4862, 3801, 4594, 3719, 4035, 4740, 4296, 4067, 3639],\n",
       " [2933, 3246, 3120, 2230, 2968, 4345, 3939, 2035, 4627, 2114],\n",
       " [4445, 1796, 946, 1330, 3305, 305, 3894, 3937, 2633, 999],\n",
       " [305, 672, 2945, 109, 2114],\n",
       " [3156, 3471, 4731, 231, 4960, 2553, 3156, 1340, 1253],\n",
       " [305, 4137, 3495, 3150, 2686, 312, 815, 3893],\n",
       " [4664, 4805, 698, 387, 3943, 3156, 1340, 1253],\n",
       " [838, 1211, 4100, 4281, 3663, 4379, 4087],\n",
       " [3298, 1547, 4540, 4847, 3192, 1404, 894, 4379, 3156, 1340, 1253],\n",
       " [1323, 2144, 4541],\n",
       " [2936, 3495, 4995, 1281, 305, 560, 742],\n",
       " [3355, 1124, 2221, 86, 1718, 3156, 1340, 1253],\n",
       " [2626, 398, 1397, 4958, 2472, 3631, 3156, 1340, 1253],\n",
       " [4303, 997, 1492, 1136, 1184, 3059, 3361, 3267, 733, 3156, 1340, 1253],\n",
       " [3359, 2709, 1488, 3981, 273, 3756, 3156, 1340, 1253],\n",
       " [167, 305, 890, 2259, 3965, 3127, 4045, 3156, 1340, 1253],\n",
       " [3827, 2846, 890, 4862, 3778, 4036, 1059, 2321, 909, 2114],\n",
       " [1125, 658, 2184, 4087, 3916, 2754, 305, 2360, 2114],\n",
       " [4296, 2084, 2556, 305, 1259, 1211, 4100, 1367, 3156, 1340, 1253],\n",
       " [2686, 305, 2980, 3254, 47, 3156, 4492, 890],\n",
       " [2975, 4010, 3265, 3627, 2114],\n",
       " [4492, 4079, 1874, 1792, 1985],\n",
       " [3138, 1991, 999, 1431, 305, 391, 4218, 3021, 1538, 4210],\n",
       " [1573, 4683, 5, 275, 4347, 3156, 1340, 1253],\n",
       " [305, 4139, 4886, 4974, 3298, 1832, 2021, 2114],\n",
       " [190, 811, 984, 3479, 1505, 4974, 3648, 3156, 1340, 1253],\n",
       " [2057, 3268, 2556, 305, 1081, 2980, 742],\n",
       " [2460, 1886, 1491, 2497, 847, 305, 1125, 3156, 1340, 1253],\n",
       " [2559, 1919, 4777, 4978, 3850, 2495, 2941, 1776, 3457, 24, 4850, 3148, 2114],\n",
       " [2261, 117, 79, 1333, 3264, 3068],\n",
       " [4768, 3387, 4114],\n",
       " [2945, 348, 3482, 2408, 4702, 3661, 3156, 1340, 1253],\n",
       " [2941, 194, 4251, 3298, 1972, 2975, 305, 3495, 1043, 534, 3156, 1340, 1253],\n",
       " [1367, 696, 343, 666, 4070, 3451, 511, 820, 3156, 1340, 1253],\n",
       " [4337, 4862, 3359, 496, 4668, 2563, 3801, 2507, 4158, 1489, 409, 3852],\n",
       " [2559, 3969, 227, 585, 4258, 500, 4971, 462],\n",
       " [4418, 4484, 722, 2980, 4972, 780, 4657, 3288, 2615],\n",
       " [4695, 227, 2365, 2803, 226, 3156, 1340, 1253],\n",
       " [4124, 1117, 3322, 4032, 815, 86, 3036, 527],\n",
       " [4360, 2284, 2294, 1358, 3425],\n",
       " [1730, 247, 45, 2451, 4483, 4416, 1319, 2584, 4572, 1452, 3156, 1340, 1253],\n",
       " [847, 305, 3050, 3098],\n",
       " [4478, 4721, 1214, 3610, 1766, 4218, 2382, 1901, 3156, 1340, 1253],\n",
       " [457, 4760, 3828, 1714, 1483, 4612, 2945, 2224, 2556, 3156, 1340, 1253],\n",
       " [3138, 1991, 2420, 4098, 2698, 698, 589, 952],\n",
       " [3353, 2053, 1796, 4371, 999, 4798, 3690, 3304, 3156, 1340, 1253],\n",
       " [2974, 3697, 3642, 343, 4505, 3356, 2833, 3352, 4354, 2382],\n",
       " [4070, 4218, 4925, 4573, 2154, 2942, 496, 112, 3312, 3620, 3156, 1340, 1253],\n",
       " [4821, 4990, 4540, 1113, 690, 2686, 260],\n",
       " [2377, 4874, 4245, 4346, 65, 305, 2686, 3061],\n",
       " [305, 3636, 1108, 3399, 483, 1121, 2984, 2114],\n",
       " [669, 607, 1358, 1124, 305, 3167, 3121, 1491, 3920, 2241],\n",
       " [629, 545, 500, 3195, 4695, 1189, 305, 2114],\n",
       " [3690, 2635, 4680, 2002, 2509, 1610, 305, 3762, 3581],\n",
       " [4042, 2238, 2947, 305, 1234, 890, 3686, 4802, 3588],\n",
       " [2370, 4458],\n",
       " [112, 3312, 4488, 2493, 1642, 176, 1344, 3156, 1340, 1253],\n",
       " [480, 780, 4188, 2298, 3113, 1761, 4862, 3418, 2411],\n",
       " [847, 305, 1103, 2790, 128, 4542, 946, 3156, 1340, 1253],\n",
       " [4968, 3446, 4542, 3406, 3631, 1284, 4027, 4819, 64, 4829, 881, 2179],\n",
       " [2184, 4742, 4918, 3111, 1697, 3318, 4177, 1050, 2816, 967],\n",
       " [4959, 4464, 4345, 2215, 2833],\n",
       " [2826, 2586, 3641, 1805, 2279, 2883, 1182, 3156, 1340, 1253],\n",
       " [4841, 499, 4158, 2528, 4833, 3688, 1765],\n",
       " [1237, 2, 101, 1454, 4974, 1698, 3225, 3794, 3156, 1340, 1253],\n",
       " [3357, 527, 2514, 3112, 3298, 3447, 2165, 830, 1281],\n",
       " [2974, 3650, 3466, 2082, 215, 2215, 4105],\n",
       " [3138, 1991, 1657],\n",
       " [1492, 4428, 2960, 964, 607, 4742, 964, 1668, 769, 2114],\n",
       " [209, 2415, 1672, 778, 2043, 27, 4821, 1491, 142, 2652, 3352],\n",
       " [152, 2631, 4145, 4065, 305, 2462, 2294, 123, 722, 2114],\n",
       " [511, 4482, 3934, 4434],\n",
       " [305, 4876, 4158, 2885, 4158, 500, 3156, 1340, 1253],\n",
       " [282, 1572, 4701, 2158, 4070, 3762, 1457, 3156, 1340, 1253],\n",
       " [2744, 597, 4540, 3497, 462, 1984, 227, 3156, 1340, 1253],\n",
       " [3295, 3095, 2451, 447, 47, 1970, 1617, 913, 3837],\n",
       " [3156, 4027, 462, 2239, 4045, 4485, 305, 4417],\n",
       " [249, 3684, 1116, 3351, 1944, 4280, 2864, 1452, 3156, 1340, 1253],\n",
       " [4805, 4967, 294, 868, 4067, 1832, 3156, 1340, 1253],\n",
       " [1864, 2338, 204, 2067, 305, 4339, 2941, 4061, 3156, 1340, 1253],\n",
       " [1189, 2190, 3946, 1426, 694, 3156, 1340, 1253],\n",
       " [3984, 607, 1908, 4765],\n",
       " [2349, 1246, 1886, 480, 3576, 847, 305, 4676, 4860, 3156, 1340, 1253],\n",
       " [1718, 3697, 4193, 2999, 2114],\n",
       " [3540, 990, 3682, 4862, 3418, 742],\n",
       " [1357, 3950, 2697, 2879, 4375, 1062],\n",
       " [792, 3781, 2985, 1426, 792, 2146, 4218, 913, 2195, 2114],\n",
       " [4988, 2941, 905, 666, 1208, 3437, 4392, 1246, 1886, 3156, 1340, 1253],\n",
       " [651,\n",
       "  890,\n",
       "  3103,\n",
       "  3167,\n",
       "  4494,\n",
       "  3934,\n",
       "  305,\n",
       "  4612,\n",
       "  827,\n",
       "  2184,\n",
       "  3604,\n",
       "  1436,\n",
       "  4768,\n",
       "  2944,\n",
       "  2114],\n",
       " [1724, 2710, 3008, 1077, 4281],\n",
       " [4130, 1268, 305, 1687, 2980, 3839, 3515],\n",
       " [1781, 946, 589, 6, 4151, 198, 1352, 532, 2235, 2114],\n",
       " [4124, 1488, 2083, 1116, 2878, 1902, 2203, 3277, 703],\n",
       " [466, 4172, 4614, 3561, 1408, 1880, 3156, 1340, 1253],\n",
       " [2234, 2475, 670, 4440, 4956, 1364, 4415, 4805],\n",
       " [4862, 145, 4556, 3670, 3954, 4580, 984, 2458, 1697, 3670, 3954],\n",
       " [2370, 1052, 180, 2415, 3375],\n",
       " [305, 3522, 2941, 2661, 4694, 2181, 1874, 116],\n",
       " [128, 3066, 3254, 1927, 2007, 1617, 1731, 1348],\n",
       " [1089, 21, 3938, 1644, 1043, 4542, 523, 2814],\n",
       " [1089, 4309, 2560, 995, 4739, 2883, 1182, 3156, 1340, 1253],\n",
       " [3357, 308, 1958, 4988, 3901, 2933, 1772, 1193, 2073, 2076, 2718],\n",
       " [3670, 1182, 4273, 2839, 3156, 1340, 1253],\n",
       " [780, 2435, 2574, 4843, 1736, 4603, 3541, 4167],\n",
       " [1903, 462, 3682, 1189, 4045, 1617, 1319, 1485, 2671, 3150, 4258, 3886],\n",
       " [4517, 75, 4061, 573, 714, 2415, 3156, 1340, 1253],\n",
       " [4651, 716, 4083, 4019, 1826, 680, 2864, 305],\n",
       " [488, 2211, 167],\n",
       " [4721, 166, 4894, 633, 3057, 128, 1761, 523, 4204, 2114],\n",
       " [3283, 802, 3438, 503, 3346, 1689, 1707, 3428, 4650],\n",
       " [847, 305, 4114, 4762, 3356, 4396, 1954, 2114],\n",
       " [2933, 128, 3563, 166, 558, 3120, 4065, 4558, 1843, 1182, 2114],\n",
       " [4117, 4191, 1644, 653, 4695, 123, 722, 3156, 1340, 1253],\n",
       " [670, 79, 312, 847, 305, 4804, 3156, 1340, 1253],\n",
       " [3284, 2675, 82, 3631, 3298, 4750, 3413, 3298, 1318, 2370, 589],\n",
       " [527, 3938, 3086, 4850, 3527, 362, 126],\n",
       " [3250, 1182, 1536, 4910, 4894, 1207, 4036],\n",
       " [1722, 491, 128, 4542, 3595, 2693, 4837, 527],\n",
       " [2588, 1645, 720, 3916, 3599, 2108, 3686],\n",
       " [4594, 2811, 2231, 2004, 4784, 4938, 2114],\n",
       " [2588, 1319, 4907, 2741, 2037, 4988, 4045],\n",
       " [4083, 3106, 941, 4907, 625, 3588, 4556, 1498, 3156, 1340, 1253],\n",
       " [675, 558, 3707, 4130, 1500, 3156, 1340, 1253],\n",
       " [305, 3833, 1014, 2231, 2941, 815, 3156, 1340, 1253],\n",
       " [686, 2738, 2158, 3833, 3794, 4386, 2233, 2958, 3156, 1340, 1253],\n",
       " [4137, 1319, 4625],\n",
       " [2715, 2559, 1912, 4195, 2640, 128, 373, 2900, 3686, 4026],\n",
       " [1311, 4159, 4771, 3552, 305, 1628, 257, 3604, 3156, 1340, 1253],\n",
       " [4768, 2541, 4790, 2541, 2556, 3708, 2203, 2541, 2611],\n",
       " [3250, 4449, 2640, 4424, 3782, 2442, 3140, 1791, 2863, 1333],\n",
       " [1781, 3247, 2114, 4158, 2114],\n",
       " [2091, 4940, 1927, 2649, 3495, 2070, 1202],\n",
       " [2686, 1071, 669, 4124, 4251],\n",
       " [4029, 2829, 2461, 91, 4808, 775, 1207, 4273, 4999, 1292],\n",
       " [194, 2437, 180, 308, 852, 1984, 857, 3156, 1340, 1253],\n",
       " [4972, 240, 2685, 2406, 4311, 1043, 478, 4434, 1645, 2900, 2114],\n",
       " [2941, 1124, 1581, 2033, 1929, 589, 1319, 2442, 3156, 1340, 1253],\n",
       " [2442, 1559, 622, 3140, 1791, 2863, 1333],\n",
       " [3280, 1511, 847, 305, 4612, 3174, 3088, 128, 4542, 3156, 1340, 1253],\n",
       " [4218, 3605, 1426, 3277, 2327, 3021, 1023, 1592, 3156, 1340, 1253],\n",
       " [3965, 3642, 1490, 2916, 4731, 614, 522, 3305, 3359, 2114],\n",
       " [1497, 4620, 3156, 2652, 1318, 1248, 365, 348, 3156, 1340, 1253],\n",
       " [2507, 3663, 3311, 188, 1064, 532, 2493, 3621, 2121, 3156, 1340, 1253],\n",
       " [3018, 3916, 4061, 4615, 1221, 2738, 3156, 1340, 1253],\n",
       " [4470, 1402, 3359, 3498, 3526, 3156, 1340, 1253],\n",
       " [4811, 2269, 4543, 3156, 1340, 592, 3318, 305, 3156, 1340, 1253],\n",
       " [4502, 167, 128, 3525, 527, 1215, 554, 2720, 3883, 3443, 1594, 554, 3883],\n",
       " [1431, 966, 1051, 881, 1532, 2427, 3346, 986, 3939, 3187, 4089, 1532, 2133],\n",
       " [700, 1480, 3353, 3741, 1207, 4303, 3156, 1340, 1253],\n",
       " [3954, 3521, 4540, 1224, 1233, 4332],\n",
       " [42, 2652, 1319, 4942, 1989, 3954, 4580, 1452, 471, 2802, 2941, 2114],\n",
       " [2272, 1079, 3410, 2157, 700, 3117, 3096, 3156, 1340, 1253],\n",
       " [2237, 527, 2158, 2873, 1435, 2649],\n",
       " [2107, 2114, 3426, 3171, 1647, 4267, 194, 430],\n",
       " [3629, 274, 1588, 2689, 3852, 883, 1788, 2114],\n",
       " [4969, 467, 4241, 3013, 1977, 1926, 3629],\n",
       " [2370, 4317, 4204, 2566, 456, 2655, 3695, 1458, 1653],\n",
       " [1716, 305, 242, 4024, 3250, 953, 4098, 569, 2114],\n",
       " [3002, 1189, 1681, 128, 4542, 2944],\n",
       " [3934, 23, 1348, 1634, 1656, 109, 1547, 4797, 1790],\n",
       " [213, 2343, 305, 268, 4666, 31, 4229, 4547, 2114],\n",
       " [2226, 1829, 1660],\n",
       " [2933, 2128, 1628, 2008, 4251, 191, 2114],\n",
       " [1781, 500, 3097, 2114, 246, 198, 1352, 4828, 1443, 3769, 2114],\n",
       " [1023, 4320, 1288, 2151],\n",
       " [1997, 2173, 1431, 1788, 1491],\n",
       " [3421, 4150, 624, 1165, 2224, 3690, 1422, 1127, 3156, 1340, 1253],\n",
       " [878, 922, 788, 1385, 4252, 4386, 2991, 3156, 1340, 1253],\n",
       " [126, 3589, 4640, 1178, 4542, 4940, 3062, 305, 2114],\n",
       " [3357, 3404, 49, 1544, 2418, 3525, 3299, 2758, 3156, 1340, 1253],\n",
       " [4458, 4166, 191, 534],\n",
       " [3849,\n",
       "  1208,\n",
       "  340,\n",
       "  806,\n",
       "  847,\n",
       "  305,\n",
       "  343,\n",
       "  838,\n",
       "  4946,\n",
       "  4873,\n",
       "  2041,\n",
       "  3156,\n",
       "  1340,\n",
       "  1253],\n",
       " [1590, 1143, 1122, 321, 3944, 1007],\n",
       " [4273, 3150, 2786, 3156, 1340, 1253],\n",
       " [847, 305, 140, 609, 2742, 128, 327, 2114],\n",
       " [1897, 919, 3156, 1340, 1253],\n",
       " [128, 4542, 2001, 1319, 4625],\n",
       " [658, 4109, 1125, 4053, 3487, 1571, 2360, 3381, 2360, 4346, 3381, 2114],\n",
       " [2427, 737, 113, 4022, 305],\n",
       " [4585, 1043, 3693, 1669, 1949, 2744, 3373, 3156, 1340, 1253],\n",
       " [4375, 2327, 321, 1465, 2370, 3018, 4540, 2043, 3156, 1340, 1253],\n",
       " [1189, 795, 2490, 2140, 1232, 4723],\n",
       " [1945, 4886, 75, 882, 1721, 4739, 366, 4616, 3298],\n",
       " [2885, 4004, 751, 2556, 3903, 3634, 2754, 3052, 1515, 3769],\n",
       " [4369, 2744, 4447, 3073, 1077, 1908, 4572, 1926, 805, 3301],\n",
       " [2537, 3080, 3865, 383, 4119, 1926, 88, 3253, 4447, 462],\n",
       " [1164, 533, 4132],\n",
       " [1485, 3518, 4695, 4499, 3801, 1280],\n",
       " [2470, 2093, 3940, 2187, 913, 3916, 3723],\n",
       " [1731, 1981, 1500, 4794, 1568, 2482, 1189, 1670, 2114],\n",
       " [1687, 874, 2722, 3802, 1332, 4760, 4379, 2954, 313, 3156, 1340, 1253],\n",
       " [847, 305, 2839, 4045, 1626, 2907, 4572, 2392, 4398, 3269, 3156, 1340, 1253],\n",
       " [871, 6, 3934, 305, 3348, 3504, 2726, 2839, 2114],\n",
       " [117, 1859, 4533, 602, 3415, 3334, 4828],\n",
       " [1848, 337, 4493, 2907, 1100, 1523],\n",
       " [305, 862, 3714, 2649, 3174, 973, 131, 4393, 3654, 3156, 1340, 1253],\n",
       " [3954, 4580, 549, 593, 3084, 706, 643, 3489, 203, 1695, 3156, 1340, 1253],\n",
       " [2187, 4620, 3358, 3662, 4942, 4979, 462],\n",
       " [4052, 4715, 1799, 4036, 2832, 3739, 1134, 630, 1277, 4402, 3156, 1340, 1253],\n",
       " [4330, 2588, 3042, 305, 3854, 257, 76],\n",
       " [305, 815, 4158, 4952, 3156, 1340, 1253],\n",
       " [2103, 4113, 2697, 4041, 847, 305],\n",
       " [1782, 257, 4375, 230, 4382],\n",
       " [663, 3062, 3770],\n",
       " [4032, 1221, 3158, 1426, 574, 3156, 1340, 1253],\n",
       " [2370, 1329, 4601, 1485, 4499, 4540, 3674, 3630, 3156, 1340, 1253],\n",
       " [642, 649, 666, 4664, 3955, 615, 3156, 1340, 1253],\n",
       " [500, 2109, 3718, 1424, 2092, 3200, 213, 3670, 3010, 915, 2410, 1207],\n",
       " [4240, 3527, 3625, 3939, 640, 1905, 305, 4417, 2274],\n",
       " [1031, 2247, 4758, 3425],\n",
       " [3036,\n",
       "  190,\n",
       "  2235,\n",
       "  1229,\n",
       "  1345,\n",
       "  4736,\n",
       "  213,\n",
       "  3993,\n",
       "  3355,\n",
       "  3171,\n",
       "  1084,\n",
       "  4637,\n",
       "  725,\n",
       "  128,\n",
       "  4542],\n",
       " [4122, 3063, 4458, 1198],\n",
       " [3325, 3934, 4614, 2779, 2507, 660, 2715, 3104, 3156, 1340, 1253],\n",
       " [305, 3066, 500, 1161, 1189, 4952, 560, 527],\n",
       " [2559, 3917, 2958, 2770, 2940, 4615, 1357, 305, 628],\n",
       " [3760, 725, 4657, 275, 3312, 2192, 2490, 1880, 3156, 1340, 1253],\n",
       " [4925, 3715, 248, 4386, 76, 4456, 3120, 2114],\n",
       " [3495, 3798, 2058, 3494, 3833, 4283, 815, 4974, 1782, 1252],\n",
       " [1180, 637, 248, 919, 4323, 1639, 273, 1215, 3156, 1340, 1253],\n",
       " [3033, 858, 3644, 4960, 4928, 1498, 3156, 1340, 1253],\n",
       " [2584, 2933, 4693, 1123, 3920, 700, 2076, 2114],\n",
       " [720, 4270, 1483, 2944],\n",
       " [4542, 1500, 2131, 4052, 1232, 3185, 2552],\n",
       " [2445, 634, 2461, 2997, 273, 560, 2940, 3156, 1340, 1253],\n",
       " [447, 4166],\n",
       " [447, 624, 550],\n",
       " [1413, 4721, 1138, 128, 2234, 462, 4534],\n",
       " [550, 4404, 2954, 2723, 4223, 1792, 3156, 3801, 4453, 3156, 1340, 1253],\n",
       " [2950, 128, 3711, 1159, 3021],\n",
       " [33, 379, 73, 4752, 704, 1574, 305, 2980],\n",
       " [4447, 2691, 3771, 2723, 2210, 4137, 3942, 2902],\n",
       " [305, 2156, 2980, 670, 2710, 2906, 3298, 1117],\n",
       " [180, 678, 4386, 2744, 2234, 3281],\n",
       " [2403, 1043, 1319, 2606, 4031, 1855, 1494, 3156, 1340, 1253],\n",
       " [1189, 2461, 1878, 2423, 3526],\n",
       " [194, 1929, 3359, 309, 816, 4410, 1014, 2983],\n",
       " [4458, 4166, 191, 534],\n",
       " [1189, 1594, 1955, 373, 2247, 1776, 3394, 3156, 1340, 1253],\n",
       " [2975, 305, 4339, 1483, 2960, 4620, 503, 4027, 398, 3156, 1340, 1253],\n",
       " [1100, 2626, 1189, 373, 447, 3647, 4444, 4340, 3156, 1340, 1253],\n",
       " [2885, 4004, 4125, 3650, 105, 4004, 3748, 1718, 3526],\n",
       " [1781, 2235, 217, 4625, 1101, 3150, 2114],\n",
       " [2426, 3508, 789, 4649, 4375, 4067, 1837, 4805, 4158, 3156, 1340, 1253],\n",
       " [2985, 2102, 573, 343, 2184, 3597, 4618, 4794, 3029, 3462, 3579],\n",
       " [4158, 2007, 3344, 4327],\n",
       " [4673, 1189, 400, 1493, 527, 128, 1752, 3156, 3938, 1761, 523],\n",
       " [1724, 3361, 4350],\n",
       " [305, 1189, 2896, 4781, 2349, 1246, 1886, 3156, 1340, 1253],\n",
       " [2559, 86, 4419, 1194, 4198, 2327, 3588, 2839],\n",
       " [815, 373, 4124, 3220, 593, 3938, 2204, 1189, 128, 128, 1413],\n",
       " [3803, 3393, 1611],\n",
       " [2559, 2112, 4498, 4098, 3219, 4449, 4424, 622, 872, 1446, 2114],\n",
       " [2825, 700, 3057, 4787, 312, 875],\n",
       " [2233, 3055, 4857, 1725],\n",
       " [2158, 3106, 1492, 2067, 3122, 4181, 3156, 1340, 1253],\n",
       " [2933, 1735, 3630, 4016, 662, 2074, 3313],\n",
       " [4146, 2933, 4729, 1023, 2155, 2105, 4747, 2184, 2114],\n",
       " [2738, 1187, 4441, 3081, 1511, 2994, 4240, 4925, 1158],\n",
       " [3408, 3495, 4032, 2014, 3670, 737, 1043, 4167, 2114],\n",
       " [3938, 703, 563, 4542, 4419, 4379, 4116, 4312, 1865, 1000],\n",
       " [686, 1928, 3312, 4440, 815, 4195, 322, 4492],\n",
       " [3180, 2915, 4294, 4296, 804, 2655, 3216, 2355, 4898, 2114],\n",
       " [2541, 2283, 227, 3801, 4594, 2726, 146, 3381],\n",
       " [2940, 537, 3156, 4492, 4066, 3156, 1340, 1253],\n",
       " [4332, 3345, 1446, 1582, 4828, 259, 1251, 2779, 3156, 1340, 1253],\n",
       " [804, 1237, 1655, 500, 1528, 973, 4620, 3697, 1829, 1297],\n",
       " [4441, 609, 2742, 1653, 4038, 1035, 2519, 4972],\n",
       " [128, 4542, 4098, 242, 3609, 4784, 667, 2377, 3255, 2114],\n",
       " [1300, 3253, 2907, 3112, 2215, 1342, 2046, 2153, 3156, 1340, 1253],\n",
       " [1927, 4776, 36, 1438],\n",
       " [4177, 4747, 4177, 3490, 4189, 2034, 4572, 305, 4862, 4132],\n",
       " [1695, 3641, 1787, 2781, 4760, 3186, 3156, 1340, 1253],\n",
       " [79, 2692, 305, 772, 3212, 4768, 3934],\n",
       " [305, 737, 999],\n",
       " [4083, 2182, 4838, 1017, 4492, 4572, 2941, 2423],\n",
       " [4968, 3111, 2333, 4281, 2467, 1563, 4394, 128, 4542, 772, 4871],\n",
       " [82, 1750, 2224, 1314, 2329, 2607, 1547],\n",
       " [645, 3942, 4761, 3569, 3220, 2667, 4340, 1572],\n",
       " [429, 1302, 2456, 4124, 3929, 1281, 2726, 3120, 2360],\n",
       " [2985, 4073, 2492, 3075, 1214],\n",
       " [3954, 3951, 2017, 1558, 1975, 3156, 1340, 1253],\n",
       " [4643, 3103, 4492, 3156, 1340, 1253],\n",
       " [1699, 4540, 4393, 1412, 2552, 4453, 1012],\n",
       " [3943, 168, 245, 2031, 2974, 3156, 1340, 1253],\n",
       " [3954, 2970, 4165, 4279, 308, 3999, 3629, 3127, 3156, 1340, 1253],\n",
       " [1639, 1829, 1411, 3625, 4561, 1910, 4900, 3156, 1340, 1253],\n",
       " [446, 3670, 4542, 354, 2472],\n",
       " [1491, 2659, 3192, 3606, 765, 1386, 606, 4665],\n",
       " [4218, 4225, 4547, 3059, 4248, 2556, 2077, 4225, 3156, 1340, 1253],\n",
       " [4969, 2134, 3654, 2574, 1115, 2726, 2790],\n",
       " [467, 3630, 2324, 589, 3653, 1452, 3156, 1340, 1253],\n",
       " [2933, 2375, 4655, 4521, 188, 2210, 4109, 2114],\n",
       " [1735, 4124, 131, 734, 4976, 2467],\n",
       " [3870, 3750, 2803, 2104, 2043, 4528, 1475, 3156, 1340, 1253],\n",
       " [305, 4599, 1970, 3490, 754, 1758, 4031, 633, 592],\n",
       " [3095, 3495, 589, 1043, 2007, 1668, 4114],\n",
       " [4067, 4974, 4967, 4890, 3823, 804, 4836, 3846, 1001],\n",
       " [1453,\n",
       "  3077,\n",
       "  3288,\n",
       "  4886,\n",
       "  3077,\n",
       "  2980,\n",
       "  1634,\n",
       "  2895,\n",
       "  3415,\n",
       "  1060,\n",
       "  3156,\n",
       "  1340,\n",
       "  1253],\n",
       " [3909, 3842, 305, 2630, 4528, 64, 4186, 2114],\n",
       " [4768, 2803, 167, 830, 82, 1855, 4850, 2534],\n",
       " [3767, 351, 2151, 1017, 1903, 1382, 4854, 4838, 2305, 24],\n",
       " [3014, 470, 3001, 128, 4542, 589],\n",
       " [3629, 274, 3410, 1284, 1427, 4045],\n",
       " [670, 2162, 2601, 1661, 4942, 3446, 919, 1902, 853],\n",
       " [1630, 4802, 305, 242, 238, 734, 75, 3156, 1340, 1253],\n",
       " [4837, 2158, 2806, 3170],\n",
       " [4721, 3823, 4145, 4065, 2950, 305, 4414, 1259, 3156, 1340, 1253],\n",
       " [400, 3342, 2202, 4988, 4264, 4023, 1784, 3156, 1340, 1253],\n",
       " [305, 527, 273, 4732, 4124, 3156, 2394, 718],\n",
       " [4003, 2864, 1915, 2346, 3778, 1479],\n",
       " [847, 305, 2178, 500, 2105, 2507, 4666, 2597, 2114],\n",
       " [820, 2284, 3029, 3288, 13, 3969],\n",
       " [577, 3417, 4144, 2251, 1403, 2347, 2640, 1668],\n",
       " [4176, 1788, 1805, 3556, 3156, 1340, 1253],\n",
       " [1912, 4434, 2365, 3627, 2900, 2538, 3156, 1340, 1253],\n",
       " [988, 2196, 305, 1480, 1512, 2757],\n",
       " [2114, 4158, 4166, 4137, 1559, 2114],\n",
       " [3160, 4447, 1491],\n",
       " [4070, 2382, 2338, 2960, 2290, 3954, 2970, 3156, 1340, 1253],\n",
       " [1085, 1650, 305, 1077, 1638, 550],\n",
       " [2569, 3021, 2544, 3292, 4651, 2461, 3934, 1542, 1452, 3156, 1340, 1253],\n",
       " [1464, 2758, 4305, 4035, 3723, 4838, 1017, 3156, 1340, 1253],\n",
       " [847, 305, 953, 4561, 2303, 1756, 4124, 4145, 436],\n",
       " [462, 3042, 3972, 3611, 3162, 2418, 4123, 1731, 2758],\n",
       " [1202,\n",
       "  2655,\n",
       "  465,\n",
       "  4232,\n",
       "  4787,\n",
       "  1538,\n",
       "  2461,\n",
       "  4124,\n",
       "  2382,\n",
       "  3894,\n",
       "  56,\n",
       "  815,\n",
       "  1448,\n",
       "  845],\n",
       " [2894, 652, 4615, 1447, 3363, 4492, 3298, 4974, 1837, 474, 1017, 1735, 876],\n",
       " [4447, 3649],\n",
       " [3156,\n",
       "  1340,\n",
       "  1253,\n",
       "  2229,\n",
       "  2171,\n",
       "  1639,\n",
       "  2764,\n",
       "  2472,\n",
       "  4834,\n",
       "  4895,\n",
       "  3156,\n",
       "  1340,\n",
       "  1253],\n",
       " [4483, 601, 337, 3309, 3511, 3141, 3234, 799, 1832, 305, 3886],\n",
       " [1138, 3704, 913, 2386],\n",
       " [3138, 1126, 905, 1927, 3983, 3156, 1340, 1253],\n",
       " [2825, 700, 1634, 2923, 4000, 804, 2503, 3032, 3156, 1340, 1253],\n",
       " [1767, 319, 2660, 2505, 331, 1253, 1491, 2175, 1915],\n",
       " [1309, 714, 3008, 4001, 317, 3778, 2370, 3156, 1340, 1253],\n",
       " [3571, 3254, 4489, 1990, 4542, 2803, 1326],\n",
       " [3029, 3288, 4556, 4810, 2390, 4240],\n",
       " [3, 4202, 3674, 3892, 3600, 3495, 2114],\n",
       " [3533, 1165, 3798, 3088, 1103, 3156, 1340, 1253],\n",
       " [128, 4024, 3670, 722, 1312, 4979],\n",
       " [4087, 847, 491, 847, 305, 3156, 1340, 1253],\n",
       " [4561, 4787, 1204, 2309, 523],\n",
       " [2307, 2456, 3470, 4821, 2444, 1517, 4327, 4529, 3156, 1340, 1253],\n",
       " [146, 853, 4829],\n",
       " [4380, 305, 2509, 2923, 1673, 492, 3361],\n",
       " [152, 2631, 188, 4517, 416, 1344, 2100],\n",
       " [4873, 2041, 728, 847, 305, 4850, 1445, 2370, 4907, 3156, 1340, 1253],\n",
       " [3156, 3418, 1761, 4434, 4100, 928, 1547, 1702],\n",
       " [847, 305, 79, 1281, 3471, 2162, 871, 4727, 319, 3156, 1340, 1253],\n",
       " [1805, 3556, 3354, 3359, 1741, 2277, 3527, 3156, 1340, 1253],\n",
       " [3868, 1665, 3656, 2345, 3156, 3081, 2980, 3526, 3156, 1340, 1253],\n",
       " [1403, 4794, 1485, 92, 2581, 1483, 2626, 2218, 2162, 4614],\n",
       " [3760, 446, 1653, 2792, 2253, 3156, 1340, 1253],\n",
       " [2426, 2708, 1974, 305, 4982, 500, 4470, 4218, 1999, 847],\n",
       " [213, 4833, 4158, 2994, 937, 3333, 697, 2292, 260, 3250, 2997, 483],\n",
       " [2293, 76, 4257, 321, 3610, 4948, 1253, 3156, 1340, 1253],\n",
       " [4945, 2234, 3833, 3654, 2975, 589, 4139, 670, 3156, 1340, 1253],\n",
       " [128, 4542, 3406, 2905, 1281, 3672, 1952, 1760, 2356, 1126],\n",
       " [2603, 666, 3823, 1538, 3794, 4721, 1636, 421],\n",
       " [1845, 2183, 2613, 527, 828, 305, 3406],\n",
       " [1413, 2559, 4029, 3909, 305, 2009, 796, 1446, 1668, 4293, 3778, 249, 4158],\n",
       " [393, 406, 1638, 3156, 2661, 2667, 398, 2586, 3156, 1340, 1253],\n",
       " [903, 4540, 836, 2058, 1008, 3781, 260, 3156, 1340, 1253],\n",
       " [2237, 910, 3307, 4643, 1940, 3983, 4386, 545, 4625, 1666, 2114],\n",
       " [4445, 1796, 4279, 804, 1939, 2447, 4492, 55, 4123, 2975, 3394],\n",
       " [3840, 471, 283, 2209, 4620, 3487, 1687, 3156, 1340, 1253],\n",
       " [305, 2245, 3365, 1592, 2611, 1628, 3013],\n",
       " [3559, 4954, 3968, 3363, 2265, 3156, 1340, 1253],\n",
       " [3746, 1299, 2250, 1284, 3833, 2136],\n",
       " [4376, 1491, 1333, 601, 4011, 1468, 1772, 3156, 1340, 1253],\n",
       " [1671, 2357, 2991, 2435],\n",
       " [3029, 3288, 1319, 4282, 2815, 728, 2629, 3120, 4140, 305, 2114],\n",
       " [4694, 2790, 1353, 4620, 1174, 1665, 3156, 1340, 1253],\n",
       " [1023, 1051, 3931, 4493, 4843, 4597, 1403, 876, 2784, 3771, 1498, 4236],\n",
       " [3385, 58, 2088, 4556, 2707, 1189, 2152, 1843, 737, 343],\n",
       " [3883, 2027, 1126, 352, 2158],\n",
       " [3156, 1340, 4614, 3692, 1672, 1808, 4810, 3156, 1340, 1253],\n",
       " [4067, 4580, 2713, 2138, 4708, 313, 905, 3311, 3156, 1340, 1253],\n",
       " [845, 3743, 2900, 1232, 433, 3018, 646, 2983, 3154, 4140, 3771],\n",
       " [4695, 574, 2234, 2260, 1685, 645],\n",
       " [4124, 4219, 4234, 4492, 4145],\n",
       " [4453, 3760, 2788, 4925, 4488, 3064, 4991, 4453, 1969, 3602, 3459, 3984],\n",
       " [256, 3156, 4991, 1541, 4507, 3156, 1340, 1253],\n",
       " [4584, 890, 946, 305, 3602, 4721, 4707, 4379, 4661, 4145, 2114],\n",
       " [4124, 694, 1926, 4372, 4789, 2566, 1602],\n",
       " [75, 2560, 847, 305, 3625, 3448, 97, 1730, 4070, 3762, 3156, 1340, 1253],\n",
       " [499, 248, 3098, 1477, 1382, 3690, 2019, 4165],\n",
       " [2803, 2933, 1323, 1249, 45, 4739, 3033, 4686, 2370, 4038],\n",
       " [2779, 4662, 4210, 1776, 2904, 167, 2028, 2114],\n",
       " [1741, 601, 3790, 3021, 2497, 4730, 682, 951, 642, 3156, 1340, 1253],\n",
       " [4458, 4166, 191, 534],\n",
       " [245, 3791, 3160, 4330, 737, 1727, 3055, 4370, 2370, 671, 1204],\n",
       " [3150, 1628, 1718, 847, 305, 737, 343, 3156, 1340, 1253],\n",
       " [226, 1888, 3394, 4506, 126, 471, 88, 3305],\n",
       " [847, 305, 847, 99, 1570, 1147, 4354, 3156, 1340, 1253],\n",
       " [2166, 829, 2114, 1872],\n",
       " [4025, 3369],\n",
       " [3087, 1350],\n",
       " [4124, 1774, 264, 799, 518, 2423],\n",
       " [527, 1417, 1845, 2042, 1478],\n",
       " [4132, 4024, 4805, 3471, 1299, 4615, 566],\n",
       " [3021, 4859, 2959, 1515, 249, 639],\n",
       " [],\n",
       " [4369, 3604, 1760, 3781, 4295, 1168, 1602, 462],\n",
       " [305, 2572, 4410, 4041, 734, 377, 3843, 3870, 1652, 2192, 2114],\n",
       " [305, 101, 4492, 4572, 149, 2686, 4519, 2015, 2975, 3566, 373],\n",
       " [4540, 4481, 129, 363, 1337, 2511, 4130, 1284, 1125, 2114],\n",
       " [4862, 1439, 1126, 4739, 2552, 1687, 4413, 4124, 527, 2177],\n",
       " [305, 101, 3934, 1185, 1442],\n",
       " [4968, 3715, 2556, 2929, 3977, 999, 1039, 2852, 1292, 1647, 722, 4497, 3302],\n",
       " [1937, 3413, 1984, 3047, 919, 4599, 4218, 2483, 3156, 1340, 1253],\n",
       " [4029, 2360, 1544, 3909, 305, 202, 2773, 268],\n",
       " [2933, 2825, 700, 1223, 1735, 2697, 3893, 737, 343, 3168],\n",
       " [305, 527, 2327, 1137, 2677, 4404, 3156, 1340, 1253],\n",
       " [725, 2082, 285, 4572, 302],\n",
       " [3585, 3542, 27, 1419, 3605],\n",
       " [1413, 3938, 1636, 4542, 1761, 2626, 523],\n",
       " [2726, 154, 2370, 3127, 1003, 4431, 4072, 4841, 4079, 1531, 3359, 1465, 2114],\n",
       " [815, 2693, 4124, 905, 527, 3150],\n",
       " [3641, 4783, 560, 4501],\n",
       " [2779, 4098, 4778, 1486, 93, 2941, 4970],\n",
       " [4833, 4158, 500, 885, 2960, 3909, 1471, 3527, 1647, 2114],\n",
       " [2447],\n",
       " [305, 3748, 1636, 815, 3186, 4708, 3156, 1340, 1253],\n",
       " [249, 3156, 1217, 129, 2279, 3156, 1340, 1253],\n",
       " [849, 2265, 3892, 2418, 387, 703, 3156, 1340, 1253],\n",
       " [714, 2340, 2959, 3206],\n",
       " [968, 1639, 548, 161, 4352, 3243, 3156, 1340, 1253],\n",
       " [4768, 2803, 167, 2114, 1872],\n",
       " [3156, 1340, 1491, 4490, 544, 3156, 1340, 1253],\n",
       " [4264, 4424, 1858, 4927, 4079, 1531, 1491, 3309, 4225],\n",
       " [2272, 4918, 2360, 4265, 1079, 2296, 3990, 305, 3256],\n",
       " [4693, 3318, 986, 576, 182, 3666, 2134, 4431, 2148, 3346, 482],\n",
       " [915, 3735, 640, 3167, 3945, 1902, 230, 3156, 1340, 1253],\n",
       " [305, 3295, 4296, 3865, 4788, 3754, 4089, 3299, 2114],\n",
       " [2100, 3588, 1491],\n",
       " [3134, 4430, 4124, 1161, 816, 4572, 440],\n",
       " [251, 305, 1634, 3037, 601, 4123, 3124, 4327, 302, 2114],\n",
       " [490, 3416, 2247, 2654, 4862, 384, 2127, 2394, 2941, 3156, 1340, 1253],\n",
       " [4396, 97, 1189, 1361, 1232, 3269, 305, 946, 3127],\n",
       " [4077, 2836, 4519, 2475, 3508, 2418, 2933],\n",
       " [2933,\n",
       "  2365,\n",
       "  1177,\n",
       "  3327,\n",
       "  943,\n",
       "  3317,\n",
       "  669,\n",
       "  3599,\n",
       "  4519,\n",
       "  2640,\n",
       "  1818,\n",
       "  2941,\n",
       "  2673,\n",
       "  1535],\n",
       " [3457, 2559, 3569, 1774, 4158, 645],\n",
       " [1278, 3816, 4890, 2006, 1324, 4790, 2974, 2456, 3156, 1340, 1253],\n",
       " [4969, 4879, 632, 2420, 847, 305, 601, 4095, 2338, 2566, 302],\n",
       " [66, 2200, 3934, 2827, 2201, 3250, 3109, 2661, 2114],\n",
       " [2933, 847, 305, 2609, 4805, 3471, 2162, 1299],\n",
       " [3589, 2461, 4476, 1234, 890, 2958, 4802, 4204, 2114],\n",
       " [800, 2488, 2509, 4191, 4135, 313, 1687, 2447, 2382],\n",
       " [4587, 1059, 181, 4693, 2751, 1832, 3156, 1340, 1253],\n",
       " [1004, 500, 2715, 561, 1665],\n",
       " [523, 4130, 4540, 836, 399, 3156, 1340, 1253],\n",
       " [4788, 4397, 4165, 3135, 4172, 534, 4020, 4534, 714, 3156, 1340, 1253],\n",
       " [2194, 3901, 1090, 1094, 1334, 2076, 3156, 1340, 1253],\n",
       " [3599, 913, 305, 3268, 231, 3088, 3156, 1340, 1253],\n",
       " [55, 1644, 2738, 1939, 4226, 1189],\n",
       " [4594, 179, 3299, 2006, 4688, 2078, 3156, 1340, 1253],\n",
       " [1538, 4519, 1679, 2428, 439, 2797, 1919, 2611, 2114],\n",
       " [828],\n",
       " [4375, 4359, 4018, 3156, 3801, 1281, 352, 2556, 3156, 1340, 1253],\n",
       " [3033, 1394, 714, 4702, 915, 1420, 1775, 3032],\n",
       " [383, 219, 3937, 4121, 4070, 276, 653, 1201],\n",
       " [4145, 436, 1621, 3062, 3036, 1237, 2839, 308],\n",
       " [608, 275, 3211, 4824, 2336, 25, 1283, 2144],\n",
       " [1311, 3639, 550, 3361, 4124, 2566, 161, 1350],\n",
       " [4193, 2556, 305, 704, 2738, 4739, 3848, 2850, 1668, 318],\n",
       " [4853, 1362, 840, 1042, 3762, 4805],\n",
       " [4273, 316, 4029, 4681, 4345, 256, 305, 3156, 1340, 1253],\n",
       " [3934, 1587, 999, 2496, 1458, 1311],\n",
       " [4715, 64, 500, 305, 4226, 4339, 1776, 3147, 2114],\n",
       " [4218, 2382, 4794, 3156, 1340, 558, 3156, 1340, 1253],\n",
       " [4541, 589, 1482, 933, 4451, 4566, 2767, 4388, 681, 3156, 1340, 1253],\n",
       " [4968,\n",
       "  277,\n",
       "  2541,\n",
       "  2163,\n",
       "  3359,\n",
       "  1672,\n",
       "  1232,\n",
       "  617,\n",
       "  1500,\n",
       "  1485,\n",
       "  197,\n",
       "  3611,\n",
       "  1981,\n",
       "  1633,\n",
       "  475],\n",
       " [2306, 2293, 4721, 2509, 392, 119, 258, 128, 4876, 462],\n",
       " [3542, 560, 305, 972, 4542, 1254, 3156, 1340, 1253],\n",
       " [4489, 4871, 4817, 2162, 601, 1113, 1613, 2114],\n",
       " [3305, 2749, 2540, 4036, 2509, 294, 49, 439, 3156, 1340, 1253],\n",
       " [4386, 1901, 3663, 1552, 816, 4055, 340, 827, 264, 4352, 3156, 1340, 1253],\n",
       " [3188,\n",
       "  305,\n",
       "  563,\n",
       "  4124,\n",
       "  4802,\n",
       "  2108,\n",
       "  3168,\n",
       "  2981,\n",
       "  3945,\n",
       "  3720,\n",
       "  2791,\n",
       "  3569,\n",
       "  4492,\n",
       "  2114],\n",
       " [976, 2167, 2219, 1351, 871, 637, 3055, 3156, 1340, 1253],\n",
       " [2346, 305, 4876, 242, 4124, 4219, 2608, 2114],\n",
       " [2481, 2766, 4940, 415, 4005, 3380, 3156, 1340, 1253],\n",
       " [4695, 2800, 3086, 4242, 714, 3770, 1634, 337, 3156, 1340, 1253],\n",
       " [796, 2802, 2631, 780, 2283, 2114],\n",
       " ...]"
      ]
     },
     "execution_count": 61,
     "metadata": {},
     "output_type": "execute_result"
    }
   ],
   "source": [
    "onehot_repr_test=[one_hot(words,voc_size)for words in lines_test] \n",
    "onehot_repr_test"
   ]
  },
  {
   "cell_type": "code",
   "execution_count": 62,
   "id": "9444fe6f",
   "metadata": {},
   "outputs": [
    {
     "name": "stdout",
     "output_type": "stream",
     "text": [
      "[[   0    0    0 ... 3156 1340 1253]\n",
      " [   0    0    0 ... 4702 2224 4540]\n",
      " [   0    0    0 ... 3156 1340 1253]\n",
      " ...\n",
      " [   0    0    0 ... 3156 1340 1253]\n",
      " [   0    0    0 ... 3156 1340 1253]\n",
      " [   0    0    0 ... 3156 1340 1253]]\n"
     ]
    }
   ],
   "source": [
    "sent_length=20\n",
    "embedded_docs_test=pad_sequences(onehot_repr_test,padding='pre',maxlen=sent_length)\n",
    "print(embedded_docs_test)"
   ]
  },
  {
   "cell_type": "code",
   "execution_count": 85,
   "id": "9d723b5d",
   "metadata": {},
   "outputs": [
    {
     "name": "stdout",
     "output_type": "stream",
     "text": [
      "143/143 [==============================] - 1s 4ms/step\n"
     ]
    }
   ],
   "source": [
    "test_pred = (model.predict(embedded_docs_test) > 0.5).astype(\"int32\")"
   ]
  },
  {
   "cell_type": "code",
   "execution_count": 88,
   "id": "b1d5534a",
   "metadata": {},
   "outputs": [
    {
     "data": {
      "text/plain": [
       "array([[0],\n",
       "       [1],\n",
       "       [0],\n",
       "       ...,\n",
       "       [0],\n",
       "       [0],\n",
       "       [0]])"
      ]
     },
     "execution_count": 88,
     "metadata": {},
     "output_type": "execute_result"
    }
   ],
   "source": [
    "test_pred"
   ]
  },
  {
   "cell_type": "code",
   "execution_count": 86,
   "id": "3e629d05",
   "metadata": {},
   "outputs": [],
   "source": [
    "test_pred1 = []\n",
    "for i in test_pred:\n",
    "    if i>0.5:\n",
    "        test_pred1.append(1)\n",
    "    else:\n",
    "        test_pred1.append(0)"
   ]
  },
  {
   "cell_type": "code",
   "execution_count": 90,
   "id": "1f18a25a",
   "metadata": {},
   "outputs": [
    {
     "data": {
      "text/plain": [
       "0"
      ]
     },
     "execution_count": 90,
     "metadata": {},
     "output_type": "execute_result"
    }
   ],
   "source": [
    "test_pred1[2]"
   ]
  },
  {
   "cell_type": "code",
   "execution_count": 91,
   "id": "b258607e",
   "metadata": {},
   "outputs": [
    {
     "data": {
      "text/plain": [
       "list"
      ]
     },
     "execution_count": 91,
     "metadata": {},
     "output_type": "execute_result"
    }
   ],
   "source": [
    "type(tes)"
   ]
  },
  {
   "cell_type": "markdown",
   "id": "dc71e7e4",
   "metadata": {},
   "source": [
    "#### Creating Dataframe for submission.csv"
   ]
  },
  {
   "cell_type": "code",
   "execution_count": 92,
   "id": "d4d1bfff",
   "metadata": {},
   "outputs": [
    {
     "data": {
      "text/html": [
       "<div>\n",
       "<style scoped>\n",
       "    .dataframe tbody tr th:only-of-type {\n",
       "        vertical-align: middle;\n",
       "    }\n",
       "\n",
       "    .dataframe tbody tr th {\n",
       "        vertical-align: top;\n",
       "    }\n",
       "\n",
       "    .dataframe thead th {\n",
       "        text-align: right;\n",
       "    }\n",
       "</style>\n",
       "<table border=\"1\" class=\"dataframe\">\n",
       "  <thead>\n",
       "    <tr style=\"text-align: right;\">\n",
       "      <th></th>\n",
       "      <th>index</th>\n",
       "      <th>id</th>\n",
       "      <th>title</th>\n",
       "      <th>author</th>\n",
       "      <th>text</th>\n",
       "    </tr>\n",
       "  </thead>\n",
       "  <tbody>\n",
       "    <tr>\n",
       "      <th>0</th>\n",
       "      <td>0</td>\n",
       "      <td>20800</td>\n",
       "      <td>Specter of Trump Loosens Tongues, if Not Purse...</td>\n",
       "      <td>David Streitfeld</td>\n",
       "      <td>PALO ALTO, Calif.  —   After years of scorning...</td>\n",
       "    </tr>\n",
       "    <tr>\n",
       "      <th>1</th>\n",
       "      <td>2</td>\n",
       "      <td>20802</td>\n",
       "      <td>#NoDAPL: Native American Leaders Vow to Stay A...</td>\n",
       "      <td>Common Dreams</td>\n",
       "      <td>Videos #NoDAPL: Native American Leaders Vow to...</td>\n",
       "    </tr>\n",
       "    <tr>\n",
       "      <th>2</th>\n",
       "      <td>3</td>\n",
       "      <td>20803</td>\n",
       "      <td>Tim Tebow Will Attempt Another Comeback, This ...</td>\n",
       "      <td>Daniel Victor</td>\n",
       "      <td>If at first you don’t succeed, try a different...</td>\n",
       "    </tr>\n",
       "    <tr>\n",
       "      <th>3</th>\n",
       "      <td>4</td>\n",
       "      <td>20804</td>\n",
       "      <td>Keiser Report: Meme Wars (E995)</td>\n",
       "      <td>Truth Broadcast Network</td>\n",
       "      <td>42 mins ago 1 Views 0 Comments 0 Likes 'For th...</td>\n",
       "    </tr>\n",
       "    <tr>\n",
       "      <th>4</th>\n",
       "      <td>6</td>\n",
       "      <td>20806</td>\n",
       "      <td>Pelosi Calls for FBI Investigation to Find Out...</td>\n",
       "      <td>Pam Key</td>\n",
       "      <td>Sunday on NBC’s “Meet the Press,” House Minori...</td>\n",
       "    </tr>\n",
       "  </tbody>\n",
       "</table>\n",
       "</div>"
      ],
      "text/plain": [
       "   index     id                                              title  \\\n",
       "0      0  20800  Specter of Trump Loosens Tongues, if Not Purse...   \n",
       "1      2  20802  #NoDAPL: Native American Leaders Vow to Stay A...   \n",
       "2      3  20803  Tim Tebow Will Attempt Another Comeback, This ...   \n",
       "3      4  20804                    Keiser Report: Meme Wars (E995)   \n",
       "4      6  20806  Pelosi Calls for FBI Investigation to Find Out...   \n",
       "\n",
       "                    author                                               text  \n",
       "0         David Streitfeld  PALO ALTO, Calif.  —   After years of scorning...  \n",
       "1            Common Dreams  Videos #NoDAPL: Native American Leaders Vow to...  \n",
       "2            Daniel Victor  If at first you don’t succeed, try a different...  \n",
       "3  Truth Broadcast Network  42 mins ago 1 Views 0 Comments 0 Likes 'For th...  \n",
       "4                  Pam Key  Sunday on NBC’s “Meet the Press,” House Minori...  "
      ]
     },
     "execution_count": 92,
     "metadata": {},
     "output_type": "execute_result"
    }
   ],
   "source": [
    "df_test.head()"
   ]
  },
  {
   "cell_type": "code",
   "execution_count": 93,
   "id": "3e0ef630",
   "metadata": {},
   "outputs": [
    {
     "data": {
      "text/plain": [
       "(4575, 5)"
      ]
     },
     "execution_count": 93,
     "metadata": {},
     "output_type": "execute_result"
    }
   ],
   "source": [
    "df_test.shape"
   ]
  },
  {
   "cell_type": "code",
   "execution_count": 94,
   "id": "45f25139",
   "metadata": {},
   "outputs": [],
   "source": [
    "idx=list(df_test['id'])"
   ]
  },
  {
   "cell_type": "code",
   "execution_count": 95,
   "id": "eed989bf",
   "metadata": {},
   "outputs": [
    {
     "data": {
      "text/plain": [
       "4575"
      ]
     },
     "execution_count": 95,
     "metadata": {},
     "output_type": "execute_result"
    }
   ],
   "source": [
    "len(idx)"
   ]
  },
  {
   "cell_type": "code",
   "execution_count": 96,
   "id": "73c76d97",
   "metadata": {},
   "outputs": [
    {
     "data": {
      "text/plain": [
       "list"
      ]
     },
     "execution_count": 96,
     "metadata": {},
     "output_type": "execute_result"
    }
   ],
   "source": [
    "type(idx)"
   ]
  },
  {
   "cell_type": "code",
   "execution_count": 113,
   "id": "12ffc529",
   "metadata": {},
   "outputs": [],
   "source": [
    "#idx = list(df_test['id'])\n",
    "#titlex=list(df_test['title'])\n",
    "df_sub = pd.DataFrame({'id':idx, 'label':test_pred1})"
   ]
  },
  {
   "cell_type": "code",
   "execution_count": 114,
   "id": "9cdfb263",
   "metadata": {},
   "outputs": [
    {
     "data": {
      "text/html": [
       "<div>\n",
       "<style scoped>\n",
       "    .dataframe tbody tr th:only-of-type {\n",
       "        vertical-align: middle;\n",
       "    }\n",
       "\n",
       "    .dataframe tbody tr th {\n",
       "        vertical-align: top;\n",
       "    }\n",
       "\n",
       "    .dataframe thead th {\n",
       "        text-align: right;\n",
       "    }\n",
       "</style>\n",
       "<table border=\"1\" class=\"dataframe\">\n",
       "  <thead>\n",
       "    <tr style=\"text-align: right;\">\n",
       "      <th></th>\n",
       "      <th>id</th>\n",
       "      <th>label</th>\n",
       "    </tr>\n",
       "  </thead>\n",
       "  <tbody>\n",
       "    <tr>\n",
       "      <th>0</th>\n",
       "      <td>20800</td>\n",
       "      <td>0</td>\n",
       "    </tr>\n",
       "    <tr>\n",
       "      <th>1</th>\n",
       "      <td>20802</td>\n",
       "      <td>1</td>\n",
       "    </tr>\n",
       "    <tr>\n",
       "      <th>2</th>\n",
       "      <td>20803</td>\n",
       "      <td>0</td>\n",
       "    </tr>\n",
       "    <tr>\n",
       "      <th>3</th>\n",
       "      <td>20804</td>\n",
       "      <td>1</td>\n",
       "    </tr>\n",
       "    <tr>\n",
       "      <th>4</th>\n",
       "      <td>20806</td>\n",
       "      <td>0</td>\n",
       "    </tr>\n",
       "  </tbody>\n",
       "</table>\n",
       "</div>"
      ],
      "text/plain": [
       "      id  label\n",
       "0  20800      0\n",
       "1  20802      1\n",
       "2  20803      0\n",
       "3  20804      1\n",
       "4  20806      0"
      ]
     },
     "execution_count": 114,
     "metadata": {},
     "output_type": "execute_result"
    }
   ],
   "source": [
    "df_sub.head()"
   ]
  },
  {
   "cell_type": "code",
   "execution_count": 115,
   "id": "a6650d95",
   "metadata": {},
   "outputs": [
    {
     "data": {
      "text/html": [
       "<div>\n",
       "<style scoped>\n",
       "    .dataframe tbody tr th:only-of-type {\n",
       "        vertical-align: middle;\n",
       "    }\n",
       "\n",
       "    .dataframe tbody tr th {\n",
       "        vertical-align: top;\n",
       "    }\n",
       "\n",
       "    .dataframe thead th {\n",
       "        text-align: right;\n",
       "    }\n",
       "</style>\n",
       "<table border=\"1\" class=\"dataframe\">\n",
       "  <thead>\n",
       "    <tr style=\"text-align: right;\">\n",
       "      <th></th>\n",
       "      <th>id</th>\n",
       "    </tr>\n",
       "    <tr>\n",
       "      <th>label</th>\n",
       "      <th></th>\n",
       "    </tr>\n",
       "  </thead>\n",
       "  <tbody>\n",
       "    <tr>\n",
       "      <th>0</th>\n",
       "      <td>2409</td>\n",
       "    </tr>\n",
       "    <tr>\n",
       "      <th>1</th>\n",
       "      <td>2166</td>\n",
       "    </tr>\n",
       "  </tbody>\n",
       "</table>\n",
       "</div>"
      ],
      "text/plain": [
       "         id\n",
       "label      \n",
       "0      2409\n",
       "1      2166"
      ]
     },
     "execution_count": 115,
     "metadata": {},
     "output_type": "execute_result"
    }
   ],
   "source": [
    "df_sub.groupby('label').count()"
   ]
  },
  {
   "cell_type": "code",
   "execution_count": 116,
   "id": "075c52b1",
   "metadata": {},
   "outputs": [
    {
     "data": {
      "text/plain": [
       "<AxesSubplot:xlabel='label'>"
      ]
     },
     "execution_count": 116,
     "metadata": {},
     "output_type": "execute_result"
    },
    {
     "data": {
      "image/png": "[encoded data removed]",
      "text/plain": [
       "<Figure size 432x288 with 1 Axes>"
      ]
     },
     "metadata": {
      "needs_background": "light"
     },
     "output_type": "display_data"
    }
   ],
   "source": [
    "df_sub.groupby('label').count().plot(kind='bar')"
   ]
  },
  {
   "cell_type": "markdown",
   "id": "aa5a2b9c",
   "metadata": {},
   "source": [
    "#### Saving submissions to csv"
   ]
  },
  {
   "cell_type": "code",
   "execution_count": 112,
   "id": "1edf9941",
   "metadata": {},
   "outputs": [],
   "source": [
    "df_sub.to_csv('submission.csv', index=False)"
   ]
  }
 ],
 "metadata": {
  "kernelspec": {
   "display_name": "Python 3 (ipykernel)",
   "language": "python",
   "name": "python3"
  },
  "language_info": {
   "codemirror_mode": {
    "name": "ipython",
    "version": 3
   },
   "file_extension": ".py",
   "mimetype": "text/x-python",
   "name": "python",
   "nbconvert_exporter": "python",
   "pygments_lexer": "ipython3",
   "version": "3.9.7"
  }
 },
 "nbformat": 4,
 "nbformat_minor": 5
}
